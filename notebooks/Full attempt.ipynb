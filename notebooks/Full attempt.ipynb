{
 "cells": [
  {
   "cell_type": "code",
   "execution_count": 1,
   "metadata": {},
   "outputs": [
    {
     "name": "stderr",
     "output_type": "stream",
     "text": [
      "c:\\users\\raman\\miniconda3\\envs\\control\\lib\\site-packages\\ipykernel_launcher.py:12: DeprecationWarning: The module was found, but not in a referenced namespace.\n",
      "Implicit loading is deprecated. Please use clr.AddReference('System.Collections').\n",
      "  if sys.path[0] == '':\n"
     ]
    }
   ],
   "source": [
    "# Import the .NET class library\n",
    "import clr, ctypes\n",
    "\n",
    "# Import python sys module\n",
    "import sys, os\n",
    "\n",
    "# numpy import\n",
    "import numpy as np\n",
    "\n",
    "# Import c compatible List and String\n",
    "from System import *\n",
    "from System.Collections.Generic import List\n",
    "from System.Runtime.InteropServices import Marshal\n",
    "from System.Runtime.InteropServices import GCHandle, GCHandleType\n",
    "\n",
    "\n",
    "# Add needed dll references\n",
    "sys.path.append(os.environ['LIGHTFIELD_ROOT'])\n",
    "sys.path.append(os.environ['LIGHTFIELD_ROOT']+\"\\\\AddInViews\")\n",
    "clr.AddReference('PrincetonInstruments.LightFieldViewV5')\n",
    "clr.AddReference('PrincetonInstruments.LightField.AutomationV5')\n",
    "clr.AddReference('PrincetonInstruments.LightFieldAddInSupportServices')\n",
    "\n",
    "# PI imports\n",
    "from PrincetonInstruments.LightField.Automation import *\n",
    "from PrincetonInstruments.LightField.AddIns import *\n",
    "\n",
    "\n",
    "import nidaqmx\n",
    "import numpy as np\n",
    "import matplotlib.pyplot as plt\n",
    "\n",
    "def set_value(setting, value):    \n",
    "    # Check for existence before setting\n",
    "    # gain, adc rate, or adc quality\n",
    "    if experiment.Exists(setting):\n",
    "        experiment.SetValue(setting, value)\n",
    "\n",
    "def device_found():\n",
    "    # Find connected device\n",
    "    for device in experiment.ExperimentDevices:\n",
    "        if (device.Type == DeviceType.Camera):\n",
    "            return True\n",
    "     \n",
    "    # If connected device is not a camera inform the user\n",
    "    print(\"Camera not found. Please add a camera and try again.\")\n",
    "    return False  \n",
    "\n",
    "def convert_buffer(net_array, image_format):\n",
    "    src_hndl = GCHandle.Alloc(net_array, GCHandleType.Pinned)\n",
    "    try:\n",
    "        src_ptr = src_hndl.AddrOfPinnedObject().ToInt64()\n",
    "\n",
    "        # Possible data types returned from acquisition\n",
    "        if (image_format==ImageDataFormat.MonochromeUnsigned16):\n",
    "            buf_type = ctypes.c_ushort*len(net_array)\n",
    "        elif (image_format==ImageDataFormat.MonochromeUnsigned32):\n",
    "            buf_type = ctypes.c_uint*len(net_array)\n",
    "        elif (image_format==ImageDataFormat.MonochromeFloating32):\n",
    "            buf_type = ctypes.c_float*len(net_array)\n",
    "                    \n",
    "        cbuf = buf_type.from_address(src_ptr)\n",
    "        resultArray = np.frombuffer(cbuf, dtype=cbuf._type_)\n",
    "\n",
    "    # Free the handle \n",
    "    finally:        \n",
    "        if src_hndl.IsAllocated: src_hndl.Free()\n",
    "        \n",
    "    # Make a copy of the buffer\n",
    "    return np.copy(resultArray)\n"
   ]
  },
  {
   "cell_type": "code",
   "execution_count": 87,
   "metadata": {},
   "outputs": [
    {
     "data": {
      "text/plain": [
       "array([[-0.3       , -0.29393939, -0.28787879, ...,  0.28787879,\n",
       "         0.29393939,  0.3       ],\n",
       "       [-0.3       , -0.3       , -0.3       , ...,  0.3       ,\n",
       "         0.3       ,  0.3       ]])"
      ]
     },
     "execution_count": 87,
     "metadata": {},
     "output_type": "execute_result"
    }
   ],
   "source": [
    "N = 100\n",
    "volts = np.linspace(-.3, .3, N)\n",
    "X,Y = np.meshgrid(volts, volts)\n",
    "x = X.flatten()\n",
    "y = Y.flatten()\n",
    "stacked = np.vstack([x,y])\n",
    "stacked"
   ]
  },
  {
   "cell_type": "code",
   "execution_count": 88,
   "metadata": {},
   "outputs": [
    {
     "ename": "NameError",
     "evalue": "name 'blarg' is not defined",
     "output_type": "error",
     "traceback": [
      "\u001b[1;31m---------------------------------------------------------------------------\u001b[0m",
      "\u001b[1;31mNameError\u001b[0m                                 Traceback (most recent call last)",
      "\u001b[1;32m<ipython-input-88-b79ef3bfb7cd>\u001b[0m in \u001b[0;36m<module>\u001b[1;34m\u001b[0m\n\u001b[1;32m----> 1\u001b[1;33m \u001b[0mblarg\u001b[0m\u001b[1;33m.\u001b[0m\u001b[0mstop\u001b[0m\u001b[1;33m(\u001b[0m\u001b[1;33m)\u001b[0m\u001b[1;33m\u001b[0m\u001b[1;33m\u001b[0m\u001b[0m\n\u001b[0m\u001b[0;32m      2\u001b[0m \u001b[0mblarg\u001b[0m\u001b[1;33m.\u001b[0m\u001b[0mclose\u001b[0m\u001b[1;33m(\u001b[0m\u001b[1;33m)\u001b[0m\u001b[1;33m\u001b[0m\u001b[1;33m\u001b[0m\u001b[0m\n",
      "\u001b[1;31mNameError\u001b[0m: name 'blarg' is not defined"
     ]
    }
   ],
   "source": [
    "blarg.stop()\n",
    "blarg.close()"
   ]
  },
  {
   "cell_type": "code",
   "execution_count": 55,
   "metadata": {},
   "outputs": [],
   "source": [
    "AOchannels = [0,1]\n",
    "sampleRate = 100000\n",
    "numSamplesPerChannel = 50\n",
    "sampleClockSource = 'PFI0'\n",
    "devName = 'Dev1'"
   ]
  },
  {
   "cell_type": "code",
   "execution_count": 104,
   "metadata": {},
   "outputs": [],
   "source": [
    "shutter_task = nidaqmx.Task()\n",
    "shutter_chan = shutter_task.do_channels.add_do_chan('Dev1/port0/line0')"
   ]
  },
  {
   "cell_type": "code",
   "execution_count": 105,
   "metadata": {},
   "outputs": [
    {
     "data": {
      "text/plain": [
       "AOChannel(name=y)"
      ]
     },
     "execution_count": 105,
     "metadata": {},
     "output_type": "execute_result"
    }
   ],
   "source": [
    "try:\n",
    "    task.stop()\n",
    "    task.close()\n",
    "except NameError:\n",
    "    pass\n",
    "channels = ['Dev1/ao0', 'Dev1/ao1']\n",
    "task = nidaqmx.Task('galvoAO')\n",
    "task.ao_channels.add_ao_voltage_chan(channels[0],'x', min_val=-10, max_val=10)\n",
    "task.ao_channels.add_ao_voltage_chan(channels[1],'y', min_val=-10, max_val=10)"
   ]
  },
  {
   "cell_type": "code",
   "execution_count": 90,
   "metadata": {},
   "outputs": [],
   "source": [
    "task.timing.cfg_samp_clk_timing(sampleRate,\n",
    "                                source = sampleClockSource,\n",
    "                                active_edge = nidaqmx.constants.Edge.FALLING,\n",
    "                                sample_mode= nidaqmx.constants.AcquisitionType.FINITE,\n",
    "                                samps_per_chan=len(x))"
   ]
  },
  {
   "cell_type": "code",
   "execution_count": 91,
   "metadata": {},
   "outputs": [
    {
     "data": {
      "text/plain": [
       "10000"
      ]
     },
     "execution_count": 91,
     "metadata": {},
     "output_type": "execute_result"
    }
   ],
   "source": [
    "task.write(stacked, auto_start=False)"
   ]
  },
  {
   "cell_type": "code",
   "execution_count": 68,
   "metadata": {},
   "outputs": [],
   "source": [
    "# Create the LightField Application (true for visible)\n",
    "# The 2nd parameter forces LF to load with no experiment \n",
    "auto = Automation(True, List[String]())\n",
    "experiment = auto.LightFieldApplication.Experiment\n",
    "experiment.Load('Pixis')\n",
    "def set_value(setting, value):    \n",
    "    # Check for existence before setting\n",
    "    # gain, adc rate, or adc quality\n",
    "    if experiment.Exists(setting):\n",
    "        experiment.SetValue(setting, value)\n",
    "\n"
   ]
  },
  {
   "cell_type": "code",
   "execution_count": 92,
   "metadata": {},
   "outputs": [],
   "source": [
    "set_value(CameraSettings.ShutterTimingExposureTime, 20.0)\n"
   ]
  },
  {
   "cell_type": "code",
   "execution_count": 29,
   "metadata": {},
   "outputs": [
    {
     "data": {
      "text/plain": [
       "1"
      ]
     },
     "execution_count": 29,
     "metadata": {},
     "output_type": "execute_result"
    }
   ],
   "source": [
    "# experiment.Preview()\n",
    "# task.write([0,0])"
   ]
  },
  {
   "cell_type": "code",
   "execution_count": 30,
   "metadata": {},
   "outputs": [
    {
     "data": {
      "text/plain": [
       "1"
      ]
     },
     "execution_count": 30,
     "metadata": {},
     "output_type": "execute_result"
    }
   ],
   "source": [
    "# task.write([x,.1])"
   ]
  },
  {
   "cell_type": "code",
   "execution_count": 33,
   "metadata": {},
   "outputs": [],
   "source": [
    "# # stacked = np.vstack([x,y])\n",
    "# stacked = np.array([[0,0,0,0,0,.1,.1,.1,.1,.1],\n",
    "#           [0,0,0,0,0,.1,.1,.1,.1,.1]])"
   ]
  },
  {
   "cell_type": "code",
   "execution_count": 37,
   "metadata": {},
   "outputs": [
    {
     "data": {
      "text/plain": [
       "10"
      ]
     },
     "execution_count": 37,
     "metadata": {},
     "output_type": "execute_result"
    }
   ],
   "source": [
    "# task.write(stacked, auto_start=False)"
   ]
  },
  {
   "cell_type": "code",
   "execution_count": 93,
   "metadata": {},
   "outputs": [],
   "source": [
    "task.start()"
   ]
  },
  {
   "cell_type": "code",
   "execution_count": 63,
   "metadata": {
    "scrolled": true
   },
   "outputs": [],
   "source": [
    "task.stop()"
   ]
  },
  {
   "cell_type": "code",
   "execution_count": 64,
   "metadata": {},
   "outputs": [],
   "source": [
    "task.close()"
   ]
  },
  {
   "cell_type": "code",
   "execution_count": 94,
   "metadata": {},
   "outputs": [],
   "source": [
    "dataset100 = experiment.Capture(len(x))"
   ]
  },
  {
   "cell_type": "code",
   "execution_count": 95,
   "metadata": {},
   "outputs": [
    {
     "data": {
      "text/plain": [
       "1"
      ]
     },
     "execution_count": 95,
     "metadata": {},
     "output_type": "execute_result"
    }
   ],
   "source": [
    "shutter_task.write(False)"
   ]
  },
  {
   "cell_type": "code",
   "execution_count": 22,
   "metadata": {},
   "outputs": [
    {
     "data": {
      "text/plain": [
       "1"
      ]
     },
     "execution_count": 22,
     "metadata": {},
     "output_type": "execute_result"
    }
   ],
   "source": [
    "shutter_task.write(True)"
   ]
  },
  {
   "cell_type": "code",
   "execution_count": 17,
   "metadata": {},
   "outputs": [],
   "source": [
    "experiment.Stop()"
   ]
  },
  {
   "cell_type": "code",
   "execution_count": 18,
   "metadata": {},
   "outputs": [],
   "source": [
    "task.close()"
   ]
  },
  {
   "cell_type": "code",
   "execution_count": 19,
   "metadata": {},
   "outputs": [
    {
     "data": {
      "text/plain": [
       "1"
      ]
     },
     "execution_count": 19,
     "metadata": {},
     "output_type": "execute_result"
    }
   ],
   "source": [
    "shutter_task.write(False)"
   ]
  },
  {
   "cell_type": "code",
   "execution_count": 72,
   "metadata": {},
   "outputs": [
    {
     "data": {
      "text/plain": [
       "2500"
      ]
     },
     "execution_count": 72,
     "metadata": {},
     "output_type": "execute_result"
    }
   ],
   "source": [
    "dataset.Frames"
   ]
  },
  {
   "cell_type": "code",
   "execution_count": 78,
   "metadata": {},
   "outputs": [],
   "source": [
    "rm_grid = np.zeros([50*50, 1340])\n"
   ]
  },
  {
   "cell_type": "code",
   "execution_count": 74,
   "metadata": {},
   "outputs": [],
   "source": [
    "frame = dataset.GetFrame(0,0)"
   ]
  },
  {
   "cell_type": "code",
   "execution_count": 76,
   "metadata": {},
   "outputs": [
    {
     "data": {
      "text/plain": [
       "(1340,)"
      ]
     },
     "execution_count": 76,
     "metadata": {},
     "output_type": "execute_result"
    }
   ],
   "source": [
    "convert_buffer(frame.GetData(), frame.Format).shape"
   ]
  },
  {
   "cell_type": "code",
   "execution_count": 84,
   "metadata": {},
   "outputs": [],
   "source": [
    "for i in range(N*N):\n",
    "    frame = dataset.GetFrame(0,i)\n",
    "    rm_grid[i] = convert_buffer(frame.GetData(), frame.Format)"
   ]
  },
  {
   "cell_type": "code",
   "execution_count": 85,
   "metadata": {},
   "outputs": [],
   "source": [
    "arr = rm_grid.reshape(50,50,1340)"
   ]
  },
  {
   "cell_type": "code",
   "execution_count": 86,
   "metadata": {},
   "outputs": [
    {
     "data": {
      "text/plain": [
       "<matplotlib.image.AxesImage at 0x1cd788d72c8>"
      ]
     },
     "execution_count": 86,
     "metadata": {},
     "output_type": "execute_result"
    },
    {
     "data": {
      "image/png": "[encoded data removed]",
      "text/plain": [
       "<Figure size 432x288 with 1 Axes>"
      ]
     },
     "metadata": {
      "needs_background": "light"
     },
     "output_type": "display_data"
    }
   ],
   "source": [
    "plt.imshow(arr[:,:,664])"
   ]
  },
  {
   "cell_type": "code",
   "execution_count": 98,
   "metadata": {},
   "outputs": [],
   "source": [
    "rm_grid100 = np.zeros([100*100, 1340])\n",
    "for i in range(N*N):\n",
    "    frame = dataset100.GetFrame(0,i)\n",
    "    rm_grid100[i] = convert_buffer(frame.GetData(), frame.Format)"
   ]
  },
  {
   "cell_type": "code",
   "execution_count": 101,
   "metadata": {},
   "outputs": [
    {
     "data": {
      "text/plain": [
       "<matplotlib.image.AxesImage at 0x1cd790e4888>"
      ]
     },
     "execution_count": 101,
     "metadata": {},
     "output_type": "execute_result"
    },
    {
     "data": {
      "image/png": "[encoded data removed]",
      "text/plain": [
       "<Figure size 432x288 with 1 Axes>"
      ]
     },
     "metadata": {
      "needs_background": "light"
     },
     "output_type": "display_data"
    }
   ],
   "source": [
    "plt.imshow(rm_grid100.reshape(100,100,1340)[:,:,664])"
   ]
  },
  {
   "cell_type": "code",
   "execution_count": 102,
   "metadata": {},
   "outputs": [],
   "source": [
    "shutter_task.stop()"
   ]
  },
  {
   "cell_type": "code",
   "execution_count": 103,
   "metadata": {},
   "outputs": [],
   "source": [
    "experiment.Preview()"
   ]
  },
  {
   "cell_type": "code",
   "execution_count": 106,
   "metadata": {},
   "outputs": [
    {
     "data": {
      "text/plain": [
       "1"
      ]
     },
     "execution_count": 106,
     "metadata": {},
     "output_type": "execute_result"
    }
   ],
   "source": [
    "shutter_task.write(False)"
   ]
  },
  {
   "cell_type": "code",
   "execution_count": 107,
   "metadata": {},
   "outputs": [],
   "source": [
    "experiment.Stop()"
   ]
  },
  {
   "cell_type": "code",
   "execution_count": 108,
   "metadata": {},
   "outputs": [],
   "source": [
    "auto.Dispose()"
   ]
  },
  {
   "cell_type": "code",
   "execution_count": null,
   "metadata": {},
   "outputs": [],
   "source": []
  }
 ],
 "metadata": {
  "kernelspec": {
   "display_name": "Python 3",
   "language": "python",
   "name": "python3"
  },
  "language_info": {
   "codemirror_mode": {
    "name": "ipython",
    "version": 3
   },
   "file_extension": ".py",
   "mimetype": "text/x-python",
   "name": "python",
   "nbconvert_exporter": "python",
   "pygments_lexer": "ipython3",
   "version": "3.7.9"
  }
 },
 "nbformat": 4,
 "nbformat_minor": 4
}
