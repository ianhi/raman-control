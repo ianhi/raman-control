{
 "cells": [
  {
   "cell_type": "code",
   "execution_count": 37,
   "metadata": {},
   "outputs": [
    {
     "name": "stderr",
     "output_type": "stream",
     "text": [
      "C:\\Users\\Raman\\miniconda3\\envs\\control\\lib\\site-packages\\matplotlib\\_pylab_helpers.py:89: ResourceWarning: unclosed file <_io.BufferedReader name='z-stack-test/heck_1\\\\Full resolution\\\\heck_MagellanStack.tif'>\n",
      "  gc.collect(1)\n",
      "ResourceWarning: Enable tracemalloc to get the object allocation traceback\n"
     ]
    }
   ],
   "source": [
    "# %load_ext autoreload\n",
    "# %autoreload 2\n",
    "%matplotlib ipympl\n",
    "import json\n",
    "import time\n",
    "\n",
    "import ipywidgets as widgets\n",
    "import laser_pointer as lp\n",
    "import matplotlib.pyplot as plt\n",
    "import mpl_interactions.ipyplot as iplt\n",
    "import numpy as np\n",
    "from mpl_interactions import hyperslicer\n",
    "from pycromanager import Acquisition, multi_d_acquisition_events\n",
    "from raman_control import *\n",
    "from tqdm.auto import tqdm"
   ]
  },
  {
   "cell_type": "code",
   "execution_count": 2,
   "metadata": {},
   "outputs": [],
   "source": [
    "bridge, core, snap_image = setup_scope()"
   ]
  },
  {
   "cell_type": "code",
   "execution_count": 80,
   "metadata": {},
   "outputs": [
    {
     "data": {
      "text/plain": [
       "4926.25"
      ]
     },
     "execution_count": 80,
     "metadata": {},
     "output_type": "execute_result"
    }
   ],
   "source": [
    "core.get_position()"
   ]
  },
  {
   "cell_type": "code",
   "execution_count": 4,
   "metadata": {},
   "outputs": [
    {
     "data": {
      "text/plain": [
       "array([[ 0,  0],\n",
       "       [ 1, -1],\n",
       "       [ 2, -2],\n",
       "       [ 3, -3],\n",
       "       [ 4, -4]])"
      ]
     },
     "execution_count": 4,
     "metadata": {},
     "output_type": "execute_result"
    }
   ],
   "source": [
    "x = np.arange(0, 5)\n",
    "y = np.arange(0, -5, -1)\n",
    "\n",
    "xy = np.hstack([x[:, None], y[:, None]])\n",
    "xy"
   ]
  },
  {
   "cell_type": "code",
   "execution_count": 98,
   "metadata": {},
   "outputs": [],
   "source": [
    "x = core.get_x_position()\n",
    "y = core.get_y_position()\n",
    "z = core.get_position()\n",
    "from sidecar import Sidecar\n",
    "\n",
    "sc = Sidecar(title=\"Function Output\")"
   ]
  },
  {
   "cell_type": "code",
   "execution_count": 99,
   "metadata": {},
   "outputs": [],
   "source": [
    "def make_z_args_asym(cur_z, minus_rel, plus_rel, step):\n",
    "    return {\"z_start\": cur_z - minus_rel, \"z_end\": cur_z + plus_rel, \"z_step\": step}\n",
    "\n",
    "\n",
    "def make_z_args(cur_z, rel, step):\n",
    "    return make_z_args_asym(cur_z, np.abs(rel), np.abs(rel), step)\n",
    "\n",
    "\n",
    "# multi_d_acquisition_events(xy_positions=[[x, y]], z_start)"
   ]
  },
  {
   "cell_type": "code",
   "execution_count": 100,
   "metadata": {},
   "outputs": [
    {
     "data": {
      "text/plain": [
       "[{'axes': {'position': 0, 'z': 0},\n",
       "  'x': 51014,\n",
       "  'y': 43547,\n",
       "  'channel': {'group': 'UPLSAPO40X', 'config': 'BF'},\n",
       "  'z': 4922.25},\n",
       " {'axes': {'position': 0, 'z': 1},\n",
       "  'x': 51014,\n",
       "  'y': 43547,\n",
       "  'channel': {'group': 'UPLSAPO40X', 'config': 'BF'},\n",
       "  'z': 4923.25},\n",
       " {'axes': {'position': 0, 'z': 2},\n",
       "  'x': 51014,\n",
       "  'y': 43547,\n",
       "  'channel': {'group': 'UPLSAPO40X', 'config': 'BF'},\n",
       "  'z': 4924.25},\n",
       " {'axes': {'position': 0, 'z': 3},\n",
       "  'x': 51014,\n",
       "  'y': 43547,\n",
       "  'channel': {'group': 'UPLSAPO40X', 'config': 'BF'},\n",
       "  'z': 4925.25},\n",
       " {'axes': {'position': 0, 'z': 4},\n",
       "  'x': 51014,\n",
       "  'y': 43547,\n",
       "  'channel': {'group': 'UPLSAPO40X', 'config': 'BF'},\n",
       "  'z': 4926.25},\n",
       " {'axes': {'position': 0, 'z': 5},\n",
       "  'x': 51014,\n",
       "  'y': 43547,\n",
       "  'channel': {'group': 'UPLSAPO40X', 'config': 'BF'},\n",
       "  'z': 4927.25},\n",
       " {'axes': {'position': 0, 'z': 6},\n",
       "  'x': 51014,\n",
       "  'y': 43547,\n",
       "  'channel': {'group': 'UPLSAPO40X', 'config': 'BF'},\n",
       "  'z': 4928.25},\n",
       " {'axes': {'position': 0, 'z': 7},\n",
       "  'x': 51014,\n",
       "  'y': 43547,\n",
       "  'channel': {'group': 'UPLSAPO40X', 'config': 'BF'},\n",
       "  'z': 4929.25},\n",
       " {'axes': {'position': 0, 'z': 8},\n",
       "  'x': 51014,\n",
       "  'y': 43547,\n",
       "  'channel': {'group': 'UPLSAPO40X', 'config': 'BF'},\n",
       "  'z': 4930.25},\n",
       " {'axes': {'position': 0, 'z': 9},\n",
       "  'x': 51014,\n",
       "  'y': 43547,\n",
       "  'channel': {'group': 'UPLSAPO40X', 'config': 'BF'},\n",
       "  'z': 4931.25},\n",
       " {'axes': {'position': 0, 'z': 10},\n",
       "  'x': 51014,\n",
       "  'y': 43547,\n",
       "  'channel': {'group': 'UPLSAPO40X', 'config': 'BF'},\n",
       "  'z': 4932.25},\n",
       " {'axes': {'position': 0, 'z': 0},\n",
       "  'x': 51014,\n",
       "  'y': 43547,\n",
       "  'channel': {'group': 'UPLSAPO40X', 'config': 'GFP'},\n",
       "  'z': 4922.25},\n",
       " {'axes': {'position': 0, 'z': 1},\n",
       "  'x': 51014,\n",
       "  'y': 43547,\n",
       "  'channel': {'group': 'UPLSAPO40X', 'config': 'GFP'},\n",
       "  'z': 4923.25},\n",
       " {'axes': {'position': 0, 'z': 2},\n",
       "  'x': 51014,\n",
       "  'y': 43547,\n",
       "  'channel': {'group': 'UPLSAPO40X', 'config': 'GFP'},\n",
       "  'z': 4924.25},\n",
       " {'axes': {'position': 0, 'z': 3},\n",
       "  'x': 51014,\n",
       "  'y': 43547,\n",
       "  'channel': {'group': 'UPLSAPO40X', 'config': 'GFP'},\n",
       "  'z': 4925.25},\n",
       " {'axes': {'position': 0, 'z': 4},\n",
       "  'x': 51014,\n",
       "  'y': 43547,\n",
       "  'channel': {'group': 'UPLSAPO40X', 'config': 'GFP'},\n",
       "  'z': 4926.25},\n",
       " {'axes': {'position': 0, 'z': 5},\n",
       "  'x': 51014,\n",
       "  'y': 43547,\n",
       "  'channel': {'group': 'UPLSAPO40X', 'config': 'GFP'},\n",
       "  'z': 4927.25},\n",
       " {'axes': {'position': 0, 'z': 6},\n",
       "  'x': 51014,\n",
       "  'y': 43547,\n",
       "  'channel': {'group': 'UPLSAPO40X', 'config': 'GFP'},\n",
       "  'z': 4928.25},\n",
       " {'axes': {'position': 0, 'z': 7},\n",
       "  'x': 51014,\n",
       "  'y': 43547,\n",
       "  'channel': {'group': 'UPLSAPO40X', 'config': 'GFP'},\n",
       "  'z': 4929.25},\n",
       " {'axes': {'position': 0, 'z': 8},\n",
       "  'x': 51014,\n",
       "  'y': 43547,\n",
       "  'channel': {'group': 'UPLSAPO40X', 'config': 'GFP'},\n",
       "  'z': 4930.25},\n",
       " {'axes': {'position': 0, 'z': 9},\n",
       "  'x': 51014,\n",
       "  'y': 43547,\n",
       "  'channel': {'group': 'UPLSAPO40X', 'config': 'GFP'},\n",
       "  'z': 4931.25},\n",
       " {'axes': {'position': 0, 'z': 10},\n",
       "  'x': 51014,\n",
       "  'y': 43547,\n",
       "  'channel': {'group': 'UPLSAPO40X', 'config': 'GFP'},\n",
       "  'z': 4932.25}]"
      ]
     },
     "execution_count": 100,
     "metadata": {},
     "output_type": "execute_result"
    }
   ],
   "source": [
    "events = multi_d_acquisition_events(\n",
    "    xy_positions=[[x, y]],\n",
    "    **make_z_args(z, 5, 1),\n",
    "    channel_group=\"UPLSAPO40X\",\n",
    "    channels=[\"BF\", \"GFP\"]\n",
    ")\n",
    "# events = multi_d_acquisition_events(xy_positions=[[x,y]], channel_group='UPLSAPO40X', channels=['BF', 'GFP'])\n",
    "events"
   ]
  },
  {
   "cell_type": "code",
   "execution_count": 137,
   "metadata": {},
   "outputs": [],
   "source": [
    "from collections import defaultdict\n",
    "\n",
    "rm_data = defaultdict(dict)"
   ]
  },
  {
   "cell_type": "code",
   "execution_count": 144,
   "metadata": {},
   "outputs": [
    {
     "data": {
      "text/plain": [
       "defaultdict(dict, {0: {0: 0}})"
      ]
     },
     "execution_count": 144,
     "metadata": {},
     "output_type": "execute_result"
    }
   ],
   "source": [
    "rm_data = defaultdict(dict)\n",
    "ev = events[0]\n",
    "axes = ev[\"axes\"]\n",
    "\n",
    "\n",
    "def f():\n",
    "    rm_data[axes[\"position\"]][axes[\"z\"]] = 0\n",
    "\n",
    "\n",
    "# rm_data.get(**events[0]['axes'])\n",
    "f()\n",
    "rm_data"
   ]
  },
  {
   "cell_type": "code",
   "execution_count": 130,
   "metadata": {},
   "outputs": [
    {
     "ename": "TypeError",
     "evalue": "unhashable type: 'dict'",
     "output_type": "error",
     "traceback": [
      "\u001b[1;31m---------------------------------------------------------------------------\u001b[0m",
      "\u001b[1;31mTypeError\u001b[0m                                 Traceback (most recent call last)",
      "\u001b[1;32m<ipython-input-130-99f0cb412645>\u001b[0m in \u001b[0;36m<module>\u001b[1;34m\u001b[0m\n\u001b[1;32m----> 1\u001b[1;33m \u001b[0mrm_data\u001b[0m\u001b[1;33m[\u001b[0m\u001b[0mevents\u001b[0m\u001b[1;33m[\u001b[0m\u001b[1;36m0\u001b[0m\u001b[1;33m]\u001b[0m\u001b[1;33m[\u001b[0m\u001b[1;34m'axes'\u001b[0m\u001b[1;33m]\u001b[0m\u001b[1;33m]\u001b[0m\u001b[1;33m\u001b[0m\u001b[1;33m\u001b[0m\u001b[0m\n\u001b[0m",
      "\u001b[1;31mTypeError\u001b[0m: unhashable type: 'dict'"
     ]
    }
   ],
   "source": [
    "rm_data[events[0][\"axes\"]]"
   ]
  },
  {
   "cell_type": "code",
   "execution_count": 108,
   "metadata": {},
   "outputs": [],
   "source": [
    "events[0][\"my-metadata\"] = \"heck\""
   ]
  },
  {
   "cell_type": "code",
   "execution_count": 145,
   "metadata": {},
   "outputs": [],
   "source": [
    "rm_data = defaultdict(dict)\n",
    "sc.clear_output()\n",
    "\n",
    "\n",
    "def f(event):\n",
    "    if event[\"axes\"][\"z\"] == 5:\n",
    "        with sc:\n",
    "            rm_data[axes[\"position\"]][axes[\"z\"]] = np.zeros((10, 10))\n",
    "            print(event)\n",
    "    return event\n",
    "\n",
    "\n",
    "with Acquisition(directory=\"z-stack-test\", name=\"heck\", post_hardware_hook_fn=f) as acq:\n",
    "    dataset = acq.acquire(events)"
   ]
  },
  {
   "cell_type": "code",
   "execution_count": 146,
   "metadata": {},
   "outputs": [
    {
     "data": {
      "text/plain": [
       "defaultdict(dict,\n",
       "            {0: {0: array([[0., 0., 0., 0., 0., 0., 0., 0., 0., 0.],\n",
       "                     [0., 0., 0., 0., 0., 0., 0., 0., 0., 0.],\n",
       "                     [0., 0., 0., 0., 0., 0., 0., 0., 0., 0.],\n",
       "                     [0., 0., 0., 0., 0., 0., 0., 0., 0., 0.],\n",
       "                     [0., 0., 0., 0., 0., 0., 0., 0., 0., 0.],\n",
       "                     [0., 0., 0., 0., 0., 0., 0., 0., 0., 0.],\n",
       "                     [0., 0., 0., 0., 0., 0., 0., 0., 0., 0.],\n",
       "                     [0., 0., 0., 0., 0., 0., 0., 0., 0., 0.],\n",
       "                     [0., 0., 0., 0., 0., 0., 0., 0., 0., 0.],\n",
       "                     [0., 0., 0., 0., 0., 0., 0., 0., 0., 0.]])}})"
      ]
     },
     "execution_count": 146,
     "metadata": {},
     "output_type": "execute_result"
    }
   ],
   "source": []
  },
  {
   "cell_type": "code",
   "execution_count": 29,
   "metadata": {},
   "outputs": [],
   "source": [
    "from pycromanager import Dataset"
   ]
  },
  {
   "cell_type": "code",
   "execution_count": 90,
   "metadata": {},
   "outputs": [
    {
     "name": "stdout",
     "output_type": "stream",
     "text": [
      "Dataset opened of 1\n"
     ]
    }
   ],
   "source": [
    "data = Dataset(\"z-stack-test/heck_15\")"
   ]
  },
  {
   "cell_type": "code",
   "execution_count": 91,
   "metadata": {},
   "outputs": [],
   "source": [
    "data = data.as_array()"
   ]
  },
  {
   "cell_type": "code",
   "execution_count": 102,
   "metadata": {},
   "outputs": [],
   "source": []
  },
  {
   "cell_type": "code",
   "execution_count": 94,
   "metadata": {},
   "outputs": [
    {
     "data": {
      "application/vnd.jupyter.widget-view+json": {
       "model_id": "8e91dcc212fe4c88ab0056f8e720e06b",
       "version_major": 2,
       "version_minor": 0
      },
      "text/plain": [
       "Canvas(toolbar=Toolbar(toolitems=[('Home', 'Reset original view', 'home', 'home'), ('Back', 'Back to previous …"
      ]
     },
     "metadata": {},
     "output_type": "display_data"
    },
    {
     "name": "stderr",
     "output_type": "stream",
     "text": [
      "C:\\Users\\Raman\\miniconda3\\envs\\control\\lib\\site-packages\\matplotlib\\cbook\\__init__.py:92: ResourceWarning: unclosed file <_io.BufferedReader name='z-stack-test/heck_15\\\\Full resolution\\\\heck_MagellanStack.tif'>\n",
      "  self._obj = obj\n",
      "ResourceWarning: Enable tracemalloc to get the object allocation traceback\n"
     ]
    },
    {
     "data": {
      "application/vnd.jupyter.widget-view+json": {
       "model_id": "0701cb495fda46208fac38c4f15f064c",
       "version_major": 2,
       "version_minor": 0
      },
      "text/plain": [
       "VBox(children=(HBox(children=(Play(value=0, max=10), IntSlider(value=0, description='axis0', max=10, readout=F…"
      ]
     },
     "metadata": {},
     "output_type": "display_data"
    }
   ],
   "source": [
    "plt.figure()\n",
    "controls = hyperslicer(data, play_buttons=True)"
   ]
  },
  {
   "cell_type": "code",
   "execution_count": null,
   "metadata": {},
   "outputs": [],
   "source": [
    "out = widgets.Output()"
   ]
  },
  {
   "cell_type": "code",
   "execution_count": 96,
   "metadata": {},
   "outputs": [],
   "source": []
  },
  {
   "cell_type": "code",
   "execution_count": 111,
   "metadata": {},
   "outputs": [],
   "source": [
    "galvo, shutter, open_shutter, close_shutter, close_daq = setup_laser_control()\n",
    "auto, experiment, set_value, set_rm_exposure = setup_lightfield()\n",
    "bridge, core, snap_image = setup_scope()\n",
    "\n",
    "\n",
    "def shutdown():\n",
    "    close_daq()\n",
    "    auto.Dispose()"
   ]
  },
  {
   "cell_type": "code",
   "execution_count": 120,
   "metadata": {},
   "outputs": [],
   "source": [
    "experiment.Preview()"
   ]
  },
  {
   "cell_type": "code",
   "execution_count": 113,
   "metadata": {},
   "outputs": [
    {
     "ename": "NameError",
     "evalue": "name 'shutter' is not defined",
     "output_type": "error",
     "traceback": [
      "\u001b[1;31m---------------------------------------------------------------------------\u001b[0m",
      "\u001b[1;31mNameError\u001b[0m                                 Traceback (most recent call last)",
      "\u001b[1;32m<ipython-input-113-014cac433a74>\u001b[0m in \u001b[0;36m<module>\u001b[1;34m\u001b[0m\n\u001b[1;32m----> 1\u001b[1;33m \u001b[0mshutter\u001b[0m\u001b[1;33m.\u001b[0m\u001b[0mopen\u001b[0m\u001b[1;33m(\u001b[0m\u001b[1;33m)\u001b[0m\u001b[1;33m\u001b[0m\u001b[1;33m\u001b[0m\u001b[0m\n\u001b[0m",
      "\u001b[1;31mNameError\u001b[0m: name 'shutter' is not defined"
     ]
    }
   ],
   "source": [
    "shutter.open()"
   ]
  },
  {
   "cell_type": "code",
   "execution_count": 119,
   "metadata": {},
   "outputs": [],
   "source": [
    "shutter.open()"
   ]
  },
  {
   "cell_type": "code",
   "execution_count": 121,
   "metadata": {},
   "outputs": [],
   "source": [
    "shutter.close()"
   ]
  },
  {
   "cell_type": "code",
   "execution_count": 122,
   "metadata": {},
   "outputs": [],
   "source": [
    "experiment.Stop()"
   ]
  },
  {
   "cell_type": "code",
   "execution_count": 124,
   "metadata": {},
   "outputs": [
    {
     "data": {
      "text/plain": [
       "(array([[-0.3      , -0.2877551, -0.2755102, ...,  0.2755102,  0.2877551,\n",
       "          0.3      ],\n",
       "        [-0.3      , -0.3      , -0.3      , ...,  0.3      ,  0.3      ,\n",
       "          0.3      ]]),\n",
       " array([-0.3       , -0.2877551 , -0.2755102 , -0.26326531, -0.25102041,\n",
       "        -0.23877551, -0.22653061, -0.21428571, -0.20204082, -0.18979592,\n",
       "        -0.17755102, -0.16530612, -0.15306122, -0.14081633, -0.12857143,\n",
       "        -0.11632653, -0.10408163, -0.09183673, -0.07959184, -0.06734694,\n",
       "        -0.05510204, -0.04285714, -0.03061224, -0.01836735, -0.00612245,\n",
       "         0.00612245,  0.01836735,  0.03061224,  0.04285714,  0.05510204,\n",
       "         0.06734694,  0.07959184,  0.09183673,  0.10408163,  0.11632653,\n",
       "         0.12857143,  0.14081633,  0.15306122,  0.16530612,  0.17755102,\n",
       "         0.18979592,  0.20204082,  0.21428571,  0.22653061,  0.23877551,\n",
       "         0.25102041,  0.26326531,  0.2755102 ,  0.2877551 ,  0.3       ]))"
      ]
     },
     "execution_count": 124,
     "metadata": {},
     "output_type": "execute_result"
    }
   ],
   "source": [
    "make_grid(50)"
   ]
  },
  {
   "cell_type": "code",
   "execution_count": 160,
   "metadata": {},
   "outputs": [],
   "source": [
    "def collect_spectra(points, exposure=20):\n",
    "    \"\"\"\n",
    "    Parameters\n",
    "    ----------\n",
    "    points : arraylike\n",
    "        shape (2, N)\n",
    "    exposure : float (Default: 20)\n",
    "        exposure time in ms\n",
    "\n",
    "    Returns\n",
    "    -------\n",
    "    spectra : array\n",
    "        with shape (N, 1340)\n",
    "    \"\"\"\n",
    "    points = np.asarray(points)\n",
    "    galvo.stop()\n",
    "    # xy_grid, volts = make_grid(N)\n",
    "    SAMPLERATE = 100000\n",
    "    SAMPLECLOCKSOURCE = \"PFI0\"\n",
    "    galvo.timing.cfg_samp_clk_timing(\n",
    "        SAMPLERATE,\n",
    "        source=SAMPLECLOCKSOURCE,\n",
    "        active_edge=nidaqmx.constants.Edge.FALLING,\n",
    "        sample_mode=nidaqmx.constants.AcquisitionType.FINITE,\n",
    "        samps_per_chan=points.shape[1],\n",
    "    )\n",
    "    galvo.write(points, auto_start=False)\n",
    "    set_rm_exposure(exposure)\n",
    "\n",
    "    galvo.stop()\n",
    "    galvo.start()\n",
    "    experiment.Stop()\n",
    "    with open_shutter:\n",
    "        dataset = experiment.Capture(points.shape[1])\n",
    "    galvo.stop()\n",
    "    return convert_capture(dataset)\n",
    "\n",
    "\n",
    "def capture_rm_grid(N=75, exposure=20):\n",
    "    \"\"\"\n",
    "\n",
    "    Parameters\n",
    "    ----------\n",
    "    N : int\n",
    "        Length of the grid sides\n",
    "    exposure : float\n",
    "        exposure time in ms\n",
    "\n",
    "    Returns\n",
    "    -------\n",
    "    spectra : array\n",
    "        shape (N, N, 1340)\n",
    "    volts : 1D array\n",
    "        volts for passing to laser-pointer\n",
    "    \"\"\"\n",
    "    xy_grid, volts = make_grid(N)\n",
    "    return collect_spectra(xy_grid, exposure).squeeze().reshape(N, N, 1340), volts\n",
    "\n",
    "\n",
    "def calibrate(N=75, exposure=20):\n",
    "    \"\"\"\n",
    "    Parameters\n",
    "    ----------\n",
    "    N : int\n",
    "        Dimension of the laser grid\n",
    "    exposure : float\n",
    "        Exposure time in ms\n",
    "\n",
    "    Returns\n",
    "    -------\n",
    "    fit_calibration : function\n",
    "        to be called when an adequate number of points have been selected\n",
    "    lp_bf\n",
    "    lp_rm\n",
    "    \"\"\"\n",
    "    bf = snap_image()\n",
    "    rm, volts = capture_rm_grid(N, exposure)\n",
    "    fig, axes = plt.subplots(1, 2, figsize=(12, 5))\n",
    "    lp_bf = lp.pointer(bf, axes[0])\n",
    "    lp_rm = lp.pointer(rm[:, :, 664], axes[1], X=volts, Y=volts, radius=0.005)\n",
    "\n",
    "    def fit_calibration(plot=True):\n",
    "        \"\"\"\n",
    "        Usage\n",
    "        -----\n",
    "        ``transform_pointer, bfx_to_rmx, bfy_to_rmy, inverse_x, inverse_y = fit_calibration()``\n",
    "        \"\"\"\n",
    "        return fit_transform_pointers(lp_bf, lp_rm)\n",
    "\n",
    "    return fit_calibration, lp_bf, lp_rm\n",
    "\n",
    "\n",
    "def position_file_to_coords(fname):\n",
    "    \"\"\"\n",
    "    parameters\n",
    "    ----------\n",
    "    fname : str\n",
    "        The path the to the .pos from μmanager\n",
    "\n",
    "    returns\n",
    "    -------\n",
    "    XY : 2D array\n",
    "    Z : 1D array\n",
    "    \"\"\"\n",
    "    with open(fname) as f:\n",
    "        positions = json.load(f)\n",
    "    xyz = positions[\"map\"][\"StagePositions\"][\"array\"]\n",
    "    pos = xyz[0][\"DevicePositions\"][\"array\"]\n",
    "    X = []\n",
    "    Y = []\n",
    "    Z = []\n",
    "    for i in range(len(xyz)):\n",
    "        pos = xyz[i][\"DevicePositions\"][\"array\"]\n",
    "        for i, p in enumerate(pos):\n",
    "            device = p[\"Device\"]\n",
    "            if \"FocusDrive\" == device[\"scalar\"]:\n",
    "                # z\n",
    "                z = p[\"Position_um\"][\"array\"][0]\n",
    "            elif \"XYStage\" == device[\"scalar\"]:\n",
    "                # xy\n",
    "                x, y = p[\"Position_um\"][\"array\"]\n",
    "        X.append(x)\n",
    "        Y.append(y)\n",
    "        Z.append(z)\n",
    "    xy_pos = np.zeros([len(X), 2])\n",
    "    xy_pos[:, 0] = X\n",
    "    xy_pos[:, 1] = Y\n",
    "    return xy_pos, np.asarray(Z)\n",
    "\n",
    "\n",
    "def collect_bf_images(xy, z=None):\n",
    "    \"\"\"\n",
    "    parameters\n",
    "    ---------\n",
    "    xy : arraylike 2D\n",
    "    z : arraylike or None\n",
    "    \"\"\"\n",
    "    ims = []\n",
    "    for i in range(len(xy)):\n",
    "        core.set_xy_position(*xy[i])\n",
    "        if z:\n",
    "            core.set_position(z[i])\n",
    "        ims.append(snap_image())\n",
    "    return np.asarray(ims)"
   ]
  },
  {
   "cell_type": "code",
   "execution_count": 126,
   "metadata": {},
   "outputs": [],
   "source": [
    "rm, volts = capture_rm_grid(25)"
   ]
  },
  {
   "cell_type": "code",
   "execution_count": 128,
   "metadata": {},
   "outputs": [
    {
     "data": {
      "application/vnd.jupyter.widget-view+json": {
       "model_id": "fb086871de944f53be6f43ea4a0c2c6f",
       "version_major": 2,
       "version_minor": 0
      },
      "text/plain": [
       "Canvas(toolbar=Toolbar(toolitems=[('Home', 'Reset original view', 'home', 'home'), ('Back', 'Back to previous …"
      ]
     },
     "metadata": {},
     "output_type": "display_data"
    },
    {
     "data": {
      "text/plain": [
       "<matplotlib.image.AxesImage at 0x265ca4e47c8>"
      ]
     },
     "execution_count": 128,
     "metadata": {},
     "output_type": "execute_result"
    }
   ],
   "source": [
    "plt.figure()\n",
    "plt.imshow(rm[:, :, 664])"
   ]
  },
  {
   "cell_type": "code",
   "execution_count": 147,
   "metadata": {},
   "outputs": [
    {
     "data": {
      "text/plain": [
       "[{'axes': {'position': 0, 'z': 0},\n",
       "  'x': 51014,\n",
       "  'y': 43547,\n",
       "  'channel': {'group': 'UPLSAPO40X', 'config': 'BF'},\n",
       "  'z': 4922.25,\n",
       "  'my-metadata': 'heck'},\n",
       " {'axes': {'position': 0, 'z': 1},\n",
       "  'x': 51014,\n",
       "  'y': 43547,\n",
       "  'channel': {'group': 'UPLSAPO40X', 'config': 'BF'},\n",
       "  'z': 4923.25},\n",
       " {'axes': {'position': 0, 'z': 2},\n",
       "  'x': 51014,\n",
       "  'y': 43547,\n",
       "  'channel': {'group': 'UPLSAPO40X', 'config': 'BF'},\n",
       "  'z': 4924.25},\n",
       " {'axes': {'position': 0, 'z': 3},\n",
       "  'x': 51014,\n",
       "  'y': 43547,\n",
       "  'channel': {'group': 'UPLSAPO40X', 'config': 'BF'},\n",
       "  'z': 4925.25},\n",
       " {'axes': {'position': 0, 'z': 4},\n",
       "  'x': 51014,\n",
       "  'y': 43547,\n",
       "  'channel': {'group': 'UPLSAPO40X', 'config': 'BF'},\n",
       "  'z': 4926.25},\n",
       " {'axes': {'position': 0, 'z': 5},\n",
       "  'x': 51014,\n",
       "  'y': 43547,\n",
       "  'channel': {'group': 'UPLSAPO40X', 'config': 'BF'},\n",
       "  'z': 4927.25},\n",
       " {'axes': {'position': 0, 'z': 6},\n",
       "  'x': 51014,\n",
       "  'y': 43547,\n",
       "  'channel': {'group': 'UPLSAPO40X', 'config': 'BF'},\n",
       "  'z': 4928.25},\n",
       " {'axes': {'position': 0, 'z': 7},\n",
       "  'x': 51014,\n",
       "  'y': 43547,\n",
       "  'channel': {'group': 'UPLSAPO40X', 'config': 'BF'},\n",
       "  'z': 4929.25},\n",
       " {'axes': {'position': 0, 'z': 8},\n",
       "  'x': 51014,\n",
       "  'y': 43547,\n",
       "  'channel': {'group': 'UPLSAPO40X', 'config': 'BF'},\n",
       "  'z': 4930.25},\n",
       " {'axes': {'position': 0, 'z': 9},\n",
       "  'x': 51014,\n",
       "  'y': 43547,\n",
       "  'channel': {'group': 'UPLSAPO40X', 'config': 'BF'},\n",
       "  'z': 4931.25},\n",
       " {'axes': {'position': 0, 'z': 10},\n",
       "  'x': 51014,\n",
       "  'y': 43547,\n",
       "  'channel': {'group': 'UPLSAPO40X', 'config': 'BF'},\n",
       "  'z': 4932.25},\n",
       " {'axes': {'position': 0, 'z': 0},\n",
       "  'x': 51014,\n",
       "  'y': 43547,\n",
       "  'channel': {'group': 'UPLSAPO40X', 'config': 'GFP'},\n",
       "  'z': 4922.25},\n",
       " {'axes': {'position': 0, 'z': 1},\n",
       "  'x': 51014,\n",
       "  'y': 43547,\n",
       "  'channel': {'group': 'UPLSAPO40X', 'config': 'GFP'},\n",
       "  'z': 4923.25},\n",
       " {'axes': {'position': 0, 'z': 2},\n",
       "  'x': 51014,\n",
       "  'y': 43547,\n",
       "  'channel': {'group': 'UPLSAPO40X', 'config': 'GFP'},\n",
       "  'z': 4924.25},\n",
       " {'axes': {'position': 0, 'z': 3},\n",
       "  'x': 51014,\n",
       "  'y': 43547,\n",
       "  'channel': {'group': 'UPLSAPO40X', 'config': 'GFP'},\n",
       "  'z': 4925.25},\n",
       " {'axes': {'position': 0, 'z': 4},\n",
       "  'x': 51014,\n",
       "  'y': 43547,\n",
       "  'channel': {'group': 'UPLSAPO40X', 'config': 'GFP'},\n",
       "  'z': 4926.25},\n",
       " {'axes': {'position': 0, 'z': 5},\n",
       "  'x': 51014,\n",
       "  'y': 43547,\n",
       "  'channel': {'group': 'UPLSAPO40X', 'config': 'GFP'},\n",
       "  'z': 4927.25},\n",
       " {'axes': {'position': 0, 'z': 6},\n",
       "  'x': 51014,\n",
       "  'y': 43547,\n",
       "  'channel': {'group': 'UPLSAPO40X', 'config': 'GFP'},\n",
       "  'z': 4928.25},\n",
       " {'axes': {'position': 0, 'z': 7},\n",
       "  'x': 51014,\n",
       "  'y': 43547,\n",
       "  'channel': {'group': 'UPLSAPO40X', 'config': 'GFP'},\n",
       "  'z': 4929.25},\n",
       " {'axes': {'position': 0, 'z': 8},\n",
       "  'x': 51014,\n",
       "  'y': 43547,\n",
       "  'channel': {'group': 'UPLSAPO40X', 'config': 'GFP'},\n",
       "  'z': 4930.25},\n",
       " {'axes': {'position': 0, 'z': 9},\n",
       "  'x': 51014,\n",
       "  'y': 43547,\n",
       "  'channel': {'group': 'UPLSAPO40X', 'config': 'GFP'},\n",
       "  'z': 4931.25},\n",
       " {'axes': {'position': 0, 'z': 10},\n",
       "  'x': 51014,\n",
       "  'y': 43547,\n",
       "  'channel': {'group': 'UPLSAPO40X', 'config': 'GFP'},\n",
       "  'z': 4932.25}]"
      ]
     },
     "execution_count": 147,
     "metadata": {},
     "output_type": "execute_result"
    }
   ],
   "source": [
    "events"
   ]
  },
  {
   "cell_type": "code",
   "execution_count": 149,
   "metadata": {},
   "outputs": [],
   "source": [
    "rm_data = defaultdict(dict)\n",
    "sc.clear_output()\n",
    "\n",
    "\n",
    "def f(event):\n",
    "    if event[\"axes\"][\"z\"] == 5 and event[\"channel\"][\"config\"] == \"BF\":\n",
    "        with sc:\n",
    "            rm_data[axes[\"position\"]][axes[\"z\"]] = np.zeros((10, 10))\n",
    "            print(event)\n",
    "    return event\n",
    "\n",
    "\n",
    "with Acquisition(directory=\"z-stack-test\", name=\"heck\", post_hardware_hook_fn=f) as acq:\n",
    "    dataset = acq.acquire(events)"
   ]
  },
  {
   "cell_type": "code",
   "execution_count": 150,
   "metadata": {},
   "outputs": [],
   "source": [
    "rm_data = defaultdict(dict)\n",
    "sc.clear_output()\n",
    "\n",
    "\n",
    "def f(event):\n",
    "    if event[\"axes\"][\"z\"] == 5 and event[\"channel\"][\"config\"] == \"BF\":\n",
    "        with sc:\n",
    "            print(\"starting raman\")\n",
    "            rm_data[axes[\"position\"]][axes[\"z\"]] = capture_rm_grid(25)\n",
    "            print(\"done raman\")\n",
    "            print(event)\n",
    "    return event\n",
    "\n",
    "\n",
    "with Acquisition(directory=\"z-stack-test\", name=\"heck\", post_hardware_hook_fn=f) as acq:\n",
    "    dataset = acq.acquire(events)"
   ]
  },
  {
   "cell_type": "code",
   "execution_count": 154,
   "metadata": {},
   "outputs": [
    {
     "data": {
      "application/vnd.jupyter.widget-view+json": {
       "model_id": "4689fd9484d24625bef78cfa68f0d606",
       "version_major": 2,
       "version_minor": 0
      },
      "text/plain": [
       "Canvas(toolbar=Toolbar(toolitems=[('Home', 'Reset original view', 'home', 'home'), ('Back', 'Back to previous …"
      ]
     },
     "metadata": {},
     "output_type": "display_data"
    },
    {
     "data": {
      "text/plain": [
       "<matplotlib.image.AxesImage at 0x265c9fdcd88>"
      ]
     },
     "execution_count": 154,
     "metadata": {},
     "output_type": "execute_result"
    }
   ],
   "source": [
    "arr = rm_data[0][0][0]\n",
    "plt.figure()\n",
    "plt.imshow(arr[:, :, 664])"
   ]
  },
  {
   "cell_type": "code",
   "execution_count": 161,
   "metadata": {},
   "outputs": [],
   "source": [
    "xy, z = position_file_to_coords(\"pos-oct28.pos\")"
   ]
  },
  {
   "cell_type": "code",
   "execution_count": 162,
   "metadata": {},
   "outputs": [
    {
     "data": {
      "text/plain": [
       "array([4926.25, 4928.25])"
      ]
     },
     "execution_count": 162,
     "metadata": {},
     "output_type": "execute_result"
    }
   ],
   "source": [
    "np.array(z)"
   ]
  },
  {
   "cell_type": "code",
   "execution_count": 164,
   "metadata": {},
   "outputs": [],
   "source": [
    "xyz = np.hstack([xy, z[:, None]])"
   ]
  },
  {
   "cell_type": "code",
   "execution_count": 165,
   "metadata": {},
   "outputs": [
    {
     "data": {
      "text/plain": [
       "array([[51014.  , 43547.  ,  4926.25],\n",
       "       [50753.  , 43547.  ,  4928.25]])"
      ]
     },
     "execution_count": 165,
     "metadata": {},
     "output_type": "execute_result"
    }
   ],
   "source": [
    "xyz"
   ]
  },
  {
   "cell_type": "code",
   "execution_count": 169,
   "metadata": {},
   "outputs": [],
   "source": [
    "events = multi_d_acquisition_events(\n",
    "    xyz_positions=xyz,\n",
    "    z_start=-5,\n",
    "    z_end=5,\n",
    "    z_step=1,\n",
    "    channel_group=\"UPLSAPO40X\",\n",
    "    channels=[\"BF\", \"GFP\"],\n",
    ")"
   ]
  },
  {
   "cell_type": "code",
   "execution_count": 180,
   "metadata": {},
   "outputs": [],
   "source": [
    "rm_data = defaultdict(dict)\n",
    "sc.clear_output()\n",
    "\n",
    "def f(event):\n",
    "    if event[\"axes\"][\"z\"] == 5 and event[\"channel\"][\"config\"] == \"BF\":\n",
    "        axes = event['axes']\n",
    "        with sc:\n",
    "            print(\"starting raman\")\n",
    "            print(axes['position'])\n",
    "            rm_data[axes[\"position\"]][axes[\"z\"]] = capture_rm_grid(25)\n",
    "            print(\"done raman\")\n",
    "            print(event)\n",
    "    return event\n",
    "\n",
    "\n",
    "with Acquisition(directory=\"z-stack-test\", name=\"with-rm\", post_hardware_hook_fn=f) as acq:\n",
    "    dataset = acq.acquire(events)"
   ]
  },
  {
   "cell_type": "code",
   "execution_count": 183,
   "metadata": {},
   "outputs": [
    {
     "data": {
      "application/vnd.jupyter.widget-view+json": {
       "model_id": "31ca5de985414505bb6f0f6c16bf6092",
       "version_major": 2,
       "version_minor": 0
      },
      "text/plain": [
       "Canvas(toolbar=Toolbar(toolitems=[('Home', 'Reset original view', 'home', 'home'), ('Back', 'Back to previous …"
      ]
     },
     "metadata": {},
     "output_type": "display_data"
    }
   ],
   "source": [
    "fig, axs = plt.subplots(1,2, figsize=(10,5))\n",
    "for p in [0,1]:\n",
    "    arr = rm_data[p][5][0][:,:,664]\n",
    "    axs[p].imshow(arr)"
   ]
  },
  {
   "cell_type": "code",
   "execution_count": 179,
   "metadata": {},
   "outputs": [
    {
     "data": {
      "text/plain": [
       "dict_keys([0])"
      ]
     },
     "execution_count": 179,
     "metadata": {},
     "output_type": "execute_result"
    }
   ],
   "source": [
    "rm_data[0].keys()"
   ]
  },
  {
   "cell_type": "code",
   "execution_count": 184,
   "metadata": {},
   "outputs": [],
   "source": [
    "shutdown()"
   ]
  },
  {
   "cell_type": "code",
   "execution_count": null,
   "metadata": {},
   "outputs": [],
   "source": []
  }
 ],
 "metadata": {
  "kernelspec": {
   "display_name": "Python 3",
   "language": "python",
   "name": "python3"
  },
  "language_info": {
   "codemirror_mode": {
    "name": "ipython",
    "version": 3
   },
   "file_extension": ".py",
   "mimetype": "text/x-python",
   "name": "python",
   "nbconvert_exporter": "python",
   "pygments_lexer": "ipython3",
   "version": "3.7.9"
  }
 },
 "nbformat": 4,
 "nbformat_minor": 4
}
