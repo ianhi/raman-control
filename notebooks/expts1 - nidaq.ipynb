{
 "cells": [
  {
   "cell_type": "code",
   "execution_count": 1,
   "metadata": {},
   "outputs": [],
   "source": [
    "import nidaqmx\n",
    "import numpy as np\n",
    "import matplotlib.pyplot as plt"
   ]
  },
  {
   "cell_type": "code",
   "execution_count": 2,
   "metadata": {},
   "outputs": [],
   "source": [
    "task = nidaqmx.Task('galvoAO')"
   ]
  },
  {
   "cell_type": "code",
   "execution_count": 9,
   "metadata": {},
   "outputs": [],
   "source": [
    "AOchannels = [0,1]\n",
    "sampleRate = 100000\n",
    "numSamplesPerChannel = 50\n",
    "sampleClockSource = 'PFI0'\n",
    "devName = 'Dev1'"
   ]
  },
  {
   "cell_type": "markdown",
   "metadata": {},
   "source": [
    "The matlab command has thi scall string:\n",
    " ```\n",
    " function chanObjs = createAIVoltageChan(obj,deviceNames,chanIDs,chanNames,minVal,maxVal,units,customScaleName,terminalConfig)\n",
    "    deviceNames: String or string cell array specifying names of device on which channel(s) should be added, e.g. 'Dev1'. If a cell array, chanIDs must also be a cell array (of equal length).\n",
    "    chanIDs: A numeric array of channel IDs or, in the case of multiple deviceNames (a multi-device Task), a cell array of such numeric arrays\n",
    "    chanNames: (OPTIONAL) A string or string cell array specifying names to assign to each of the channels in chanIDs (if a single string, the chanID is appended for each channel) In the case of a multi-device Task, a cell array of such strings or string cell arrays. If omitted/empty, then default DAQmx channel name is used.\n",
    "    minVal: (OPTIONAL) The minimum value, in units, that you expect to generate. If omitted/blank, then largest possible range supported by device is used.\n",
    "    maxVal: (OPTIONAL) The maximum value, in units, that you expect to generate. If omitted/blank, then largest possible range supported by device is used.\n",
    "    units: (OPTIONAL) One of {'DAQmx_Val_Volts', 'DAQmx_Val_FromCustomScale'}. Specifies units in which to generate voltage. 'DAQmx_Val_FromCustomScale' specifies that units of a supplied scale are to be used (see 'units' argument). If blank/omitted, default is 'DAQmx_Val_Volts'.\n",
    "    customScaleName: (OPTIONAL) The name of a custom scale to apply to the channel. To use this parameter, you must set units to 'DAQmx_Val_FromCustomScale'. If you do not set units to DAQmx_Val_FromCustomScale, this argument is ignored.\n",
    " \n",
    "    chanObjs: The created Channel object(s)\n",
    "```    \n",
    "\n",
    "which koseki calls like this:\n",
    "```\n",
    "AOchannels = [0,1];\n",
    "sampleRate = 10000;\n",
    "numSamplesPerChannel = length(shutter);\n",
    "\n",
    "devName = 'Dev1';\n",
    "sampleClockSource = 'PFI0';\n",
    "\n",
    "% Analog output for galvano mirror\n",
    "global hTaskAO\n",
    "\n",
    "hTaskAO = dabs.ni.daqmx.Task('galvoAO');\n",
    "hTaskAO.createAOVoltageChan(devName, AOchannels, [], -10, 10);\n",
    "```"
   ]
  },
  {
   "cell_type": "code",
   "execution_count": 4,
   "metadata": {},
   "outputs": [
    {
     "data": {
      "text/plain": [
       "AOChannel(name=y)"
      ]
     },
     "execution_count": 4,
     "metadata": {},
     "output_type": "execute_result"
    }
   ],
   "source": [
    "channels = ['Dev1/ao0', 'Dev1/ao1']\n",
    "\n",
    "task.ao_channels.add_ao_voltage_chan(channels[0],'x', min_val=-10, max_val=10)\n",
    "task.ao_channels.add_ao_voltage_chan(channels[1],'y', min_val=-10, max_val=10)"
   ]
  },
  {
   "cell_type": "code",
   "execution_count": 8,
   "metadata": {},
   "outputs": [
    {
     "name": "stderr",
     "output_type": "stream",
     "text": [
      "c:\\users\\raman\\miniconda3\\envs\\control\\lib\\site-packages\\nidaqmx\\task.py:463: ResourceWarning: Attempted to close NI-DAQmx task of name \"galvoAO\" but task was already closed.\n",
      "  'already closed.'.format(self._saved_name), DaqResourceWarning)\n"
     ]
    }
   ],
   "source": [
    "task.close()"
   ]
  },
  {
   "cell_type": "code",
   "execution_count": 9,
   "metadata": {},
   "outputs": [
    {
     "ename": "DaqError",
     "evalue": "Task specified is invalid or does not exist.\nStatus Code: -200088",
     "output_type": "error",
     "traceback": [
      "\u001b[1;31m---------------------------------------------------------------------------\u001b[0m",
      "\u001b[1;31mDaqError\u001b[0m                                  Traceback (most recent call last)",
      "\u001b[1;32m<ipython-input-9-6cce092fb7e6>\u001b[0m in \u001b[0;36m<module>\u001b[1;34m\u001b[0m\n\u001b[0;32m      6\u001b[0m                                 \u001b[0mactive_edge\u001b[0m \u001b[1;33m=\u001b[0m \u001b[0mnidaqmx\u001b[0m\u001b[1;33m.\u001b[0m\u001b[0mconstants\u001b[0m\u001b[1;33m.\u001b[0m\u001b[0mEdge\u001b[0m\u001b[1;33m.\u001b[0m\u001b[0mFALLING\u001b[0m\u001b[1;33m,\u001b[0m\u001b[1;33m\u001b[0m\u001b[1;33m\u001b[0m\u001b[0m\n\u001b[0;32m      7\u001b[0m                                 \u001b[0msample_mode\u001b[0m\u001b[1;33m=\u001b[0m \u001b[0mnidaqmx\u001b[0m\u001b[1;33m.\u001b[0m\u001b[0mconstants\u001b[0m\u001b[1;33m.\u001b[0m\u001b[0mAcquisitionType\u001b[0m\u001b[1;33m.\u001b[0m\u001b[0mFINITE\u001b[0m\u001b[1;33m,\u001b[0m\u001b[1;33m\u001b[0m\u001b[1;33m\u001b[0m\u001b[0m\n\u001b[1;32m----> 8\u001b[1;33m                                 samps_per_chan=numSamplePerChannel)\n\u001b[0m",
      "\u001b[1;32mc:\\users\\raman\\miniconda3\\envs\\control\\lib\\site-packages\\nidaqmx\\_task_modules\\timing.py\u001b[0m in \u001b[0;36mcfg_samp_clk_timing\u001b[1;34m(self, rate, source, active_edge, sample_mode, samps_per_chan)\u001b[0m\n\u001b[0;32m   3005\u001b[0m             \u001b[0mself\u001b[0m\u001b[1;33m.\u001b[0m\u001b[0m_handle\u001b[0m\u001b[1;33m,\u001b[0m \u001b[0msource\u001b[0m\u001b[1;33m,\u001b[0m \u001b[0mrate\u001b[0m\u001b[1;33m,\u001b[0m \u001b[0mactive_edge\u001b[0m\u001b[1;33m.\u001b[0m\u001b[0mvalue\u001b[0m\u001b[1;33m,\u001b[0m \u001b[0msample_mode\u001b[0m\u001b[1;33m.\u001b[0m\u001b[0mvalue\u001b[0m\u001b[1;33m,\u001b[0m\u001b[1;33m\u001b[0m\u001b[1;33m\u001b[0m\u001b[0m\n\u001b[0;32m   3006\u001b[0m             samps_per_chan)\n\u001b[1;32m-> 3007\u001b[1;33m         \u001b[0mcheck_for_error\u001b[0m\u001b[1;33m(\u001b[0m\u001b[0merror_code\u001b[0m\u001b[1;33m)\u001b[0m\u001b[1;33m\u001b[0m\u001b[1;33m\u001b[0m\u001b[0m\n\u001b[0m\u001b[0;32m   3008\u001b[0m \u001b[1;33m\u001b[0m\u001b[0m\n",
      "\u001b[1;32mc:\\users\\raman\\miniconda3\\envs\\control\\lib\\site-packages\\nidaqmx\\errors.py\u001b[0m in \u001b[0;36mcheck_for_error\u001b[1;34m(error_code)\u001b[0m\n\u001b[0;32m    125\u001b[0m         \u001b[0mcfunc\u001b[0m\u001b[1;33m(\u001b[0m\u001b[0merror_buffer\u001b[0m\u001b[1;33m,\u001b[0m \u001b[1;36m2048\u001b[0m\u001b[1;33m)\u001b[0m\u001b[1;33m\u001b[0m\u001b[1;33m\u001b[0m\u001b[0m\n\u001b[0;32m    126\u001b[0m \u001b[1;33m\u001b[0m\u001b[0m\n\u001b[1;32m--> 127\u001b[1;33m         \u001b[1;32mraise\u001b[0m \u001b[0mDaqError\u001b[0m\u001b[1;33m(\u001b[0m\u001b[0merror_buffer\u001b[0m\u001b[1;33m.\u001b[0m\u001b[0mvalue\u001b[0m\u001b[1;33m.\u001b[0m\u001b[0mdecode\u001b[0m\u001b[1;33m(\u001b[0m\u001b[1;34m\"utf-8\"\u001b[0m\u001b[1;33m)\u001b[0m\u001b[1;33m,\u001b[0m \u001b[0merror_code\u001b[0m\u001b[1;33m)\u001b[0m\u001b[1;33m\u001b[0m\u001b[1;33m\u001b[0m\u001b[0m\n\u001b[0m\u001b[0;32m    128\u001b[0m \u001b[1;33m\u001b[0m\u001b[0m\n\u001b[0;32m    129\u001b[0m     \u001b[1;32melif\u001b[0m \u001b[0merror_code\u001b[0m \u001b[1;33m>\u001b[0m \u001b[1;36m0\u001b[0m\u001b[1;33m:\u001b[0m\u001b[1;33m\u001b[0m\u001b[1;33m\u001b[0m\u001b[0m\n",
      "\u001b[1;31mDaqError\u001b[0m: Task specified is invalid or does not exist.\nStatus Code: -200088"
     ]
    }
   ],
   "source": [
    "sampleRate = 10000\n",
    "numSamplePerChannel = 50 # len(shutter)\n",
    "sampleClockSource = 'PFI0'\n",
    "task.timing.cfg_samp_clk_timing(sampleRate,\n",
    "                                source = sampleClockSource,\n",
    "                                active_edge = nidaqmx.constants.Edge.FALLING,\n",
    "                                sample_mode= nidaqmx.constants.AcquisitionType.FINITE,\n",
    "                                samps_per_chan=numSamplePerChannel)"
   ]
  },
  {
   "cell_type": "code",
   "execution_count": 12,
   "metadata": {},
   "outputs": [],
   "source": [
    "chan = task.ao_channels['x']"
   ]
  },
  {
   "cell_type": "code",
   "execution_count": 99,
   "metadata": {},
   "outputs": [
    {
     "data": {
      "text/plain": [
       "1"
      ]
     },
     "execution_count": 99,
     "metadata": {},
     "output_type": "execute_result"
    }
   ],
   "source": [
    "task.write([0,.3])"
   ]
  },
  {
   "cell_type": "code",
   "execution_count": 10,
   "metadata": {},
   "outputs": [],
   "source": [
    "shut = [True, False]*5\n",
    "shutter_task = nidaqmx.Task()\n",
    "shutter_chan = shutter_task.do_channels.add_do_chan('Dev1/port0/line0')\n",
    "shutter_task.timing.cfg_samp_clk_timing(sampleRate,\n",
    "                                        source= sampleClockSource,\n",
    "                                        active_edge=nidaqmx.constants.Edge.FALLING,\n",
    "                                        sample_mode= nidaqmx.constants.AcquisitionType.FINITE,\n",
    "                                        samps_per_chan=len(shut)\n",
    "                                       )\n"
   ]
  },
  {
   "cell_type": "code",
   "execution_count": 11,
   "metadata": {},
   "outputs": [
    {
     "data": {
      "text/plain": [
       "10"
      ]
     },
     "execution_count": 11,
     "metadata": {},
     "output_type": "execute_result"
    }
   ],
   "source": [
    "shutter_task.write(shut,auto_start=False)"
   ]
  },
  {
   "cell_type": "code",
   "execution_count": 7,
   "metadata": {},
   "outputs": [],
   "source": [
    "shutter_task.stop()"
   ]
  },
  {
   "cell_type": "code",
   "execution_count": 92,
   "metadata": {},
   "outputs": [
    {
     "data": {
      "text/plain": [
       "'EXTERNAL'"
      ]
     },
     "execution_count": 92,
     "metadata": {},
     "output_type": "execute_result"
    }
   ],
   "source": [
    "nidaqmx.system.System."
   ]
  },
  {
   "cell_type": "code",
   "execution_count": 86,
   "metadata": {},
   "outputs": [
    {
     "data": {
      "text/plain": [
       "[True, False, True, False, True, False, True, False, True, False]"
      ]
     },
     "execution_count": 86,
     "metadata": {},
     "output_type": "execute_result"
    }
   ],
   "source": [
    "[True, False]*5"
   ]
  },
  {
   "cell_type": "code",
   "execution_count": 13,
   "metadata": {},
   "outputs": [
    {
     "data": {
      "text/plain": [
       "[DOChannel(name=Dev1/port0/line0)]"
      ]
     },
     "execution_count": 13,
     "metadata": {},
     "output_type": "execute_result"
    }
   ],
   "source": [
    "list(shutter_task.do_channels)"
   ]
  },
  {
   "cell_type": "code",
   "execution_count": null,
   "metadata": {},
   "outputs": [],
   "source": []
  },
  {
   "cell_type": "code",
   "execution_count": 19,
   "metadata": {},
   "outputs": [],
   "source": [
    "task.close()"
   ]
  },
  {
   "cell_type": "code",
   "execution_count": 20,
   "metadata": {},
   "outputs": [],
   "source": [
    "shutter_task.close()"
   ]
  },
  {
   "cell_type": "code",
   "execution_count": null,
   "metadata": {},
   "outputs": [],
   "source": []
  },
  {
   "cell_type": "code",
   "execution_count": 14,
   "metadata": {},
   "outputs": [],
   "source": [
    "system = nidaqmx.system.System.local()"
   ]
  },
  {
   "cell_type": "code",
   "execution_count": 15,
   "metadata": {},
   "outputs": [
    {
     "data": {
      "text/plain": [
       "DriverVersion(major_version=19, minor_version=1, update_version=0)"
      ]
     },
     "execution_count": 15,
     "metadata": {},
     "output_type": "execute_result"
    }
   ],
   "source": [
    "system.driver_version"
   ]
  },
  {
   "cell_type": "code",
   "execution_count": 16,
   "metadata": {},
   "outputs": [
    {
     "name": "stdout",
     "output_type": "stream",
     "text": [
      "Device(name=Dev1)\n",
      "Device(name=SimDev1)\n"
     ]
    }
   ],
   "source": [
    "for device in system.devices:\n",
    "    print(device)"
   ]
  },
  {
   "cell_type": "code",
   "execution_count": 17,
   "metadata": {},
   "outputs": [],
   "source": [
    "device = system.devices['Dev1']"
   ]
  },
  {
   "cell_type": "code",
   "execution_count": 18,
   "metadata": {},
   "outputs": [
    {
     "data": {
      "text/plain": [
       "['Dev1/ao0', 'Dev1/ao1', 'Dev1/ao2', 'Dev1/ao3']"
      ]
     },
     "execution_count": 18,
     "metadata": {},
     "output_type": "execute_result"
    }
   ],
   "source": [
    "device.ao_physical_chans.channel_names"
   ]
  },
  {
   "cell_type": "code",
   "execution_count": 21,
   "metadata": {},
   "outputs": [
    {
     "data": {
      "text/plain": [
       "['Dev1/port0', 'Dev1/port1', 'Dev1/port2']"
      ]
     },
     "execution_count": 21,
     "metadata": {},
     "output_type": "execute_result"
    }
   ],
   "source": [
    "device.do_ports.channel_names"
   ]
  },
  {
   "cell_type": "code",
   "execution_count": 22,
   "metadata": {},
   "outputs": [
    {
     "data": {
      "text/plain": [
       "['Dev1/port0/line0',\n",
       " 'Dev1/port0/line1',\n",
       " 'Dev1/port0/line2',\n",
       " 'Dev1/port0/line3',\n",
       " 'Dev1/port0/line4',\n",
       " 'Dev1/port0/line5',\n",
       " 'Dev1/port0/line6',\n",
       " 'Dev1/port0/line7',\n",
       " 'Dev1/port0/line8',\n",
       " 'Dev1/port0/line9',\n",
       " 'Dev1/port0/line10',\n",
       " 'Dev1/port0/line11',\n",
       " 'Dev1/port0/line12',\n",
       " 'Dev1/port0/line13',\n",
       " 'Dev1/port0/line14',\n",
       " 'Dev1/port0/line15',\n",
       " 'Dev1/port0/line16',\n",
       " 'Dev1/port0/line17',\n",
       " 'Dev1/port0/line18',\n",
       " 'Dev1/port0/line19',\n",
       " 'Dev1/port0/line20',\n",
       " 'Dev1/port0/line21',\n",
       " 'Dev1/port0/line22',\n",
       " 'Dev1/port0/line23',\n",
       " 'Dev1/port0/line24',\n",
       " 'Dev1/port0/line25',\n",
       " 'Dev1/port0/line26',\n",
       " 'Dev1/port0/line27',\n",
       " 'Dev1/port0/line28',\n",
       " 'Dev1/port0/line29',\n",
       " 'Dev1/port0/line30',\n",
       " 'Dev1/port0/line31',\n",
       " 'Dev1/port1/line0',\n",
       " 'Dev1/port1/line1',\n",
       " 'Dev1/port1/line2',\n",
       " 'Dev1/port1/line3',\n",
       " 'Dev1/port1/line4',\n",
       " 'Dev1/port1/line5',\n",
       " 'Dev1/port1/line6',\n",
       " 'Dev1/port1/line7',\n",
       " 'Dev1/port2/line0',\n",
       " 'Dev1/port2/line1',\n",
       " 'Dev1/port2/line2',\n",
       " 'Dev1/port2/line3',\n",
       " 'Dev1/port2/line4',\n",
       " 'Dev1/port2/line5',\n",
       " 'Dev1/port2/line6',\n",
       " 'Dev1/port2/line7']"
      ]
     },
     "execution_count": 22,
     "metadata": {},
     "output_type": "execute_result"
    }
   ],
   "source": [
    "device.do_lines.channel_names\n"
   ]
  },
  {
   "cell_type": "markdown",
   "metadata": {},
   "source": [
    "## Camera Stuff (lightfield)"
   ]
  },
  {
   "cell_type": "code",
   "execution_count": 14,
   "metadata": {},
   "outputs": [
    {
     "name": "stderr",
     "output_type": "stream",
     "text": [
      "c:\\users\\raman\\miniconda3\\envs\\control\\lib\\site-packages\\ipykernel_launcher.py:12: DeprecationWarning: The module was found, but not in a referenced namespace.\n",
      "Implicit loading is deprecated. Please use clr.AddReference('System.Collections').\n",
      "  if sys.path[0] == '':\n"
     ]
    }
   ],
   "source": [
    "# Import the .NET class library\n",
    "import clr, ctypes\n",
    "\n",
    "# Import python sys module\n",
    "import sys, os\n",
    "\n",
    "# numpy import\n",
    "import numpy as np\n",
    "\n",
    "# Import c compatible List and String\n",
    "from System import *\n",
    "from System.Collections.Generic import List\n",
    "from System.Runtime.InteropServices import Marshal\n",
    "from System.Runtime.InteropServices import GCHandle, GCHandleType\n",
    "\n",
    "\n",
    "# Add needed dll references\n",
    "sys.path.append(os.environ['LIGHTFIELD_ROOT'])\n",
    "sys.path.append(os.environ['LIGHTFIELD_ROOT']+\"\\\\AddInViews\")\n",
    "clr.AddReference('PrincetonInstruments.LightFieldViewV5')\n",
    "clr.AddReference('PrincetonInstruments.LightField.AutomationV5')\n",
    "clr.AddReference('PrincetonInstruments.LightFieldAddInSupportServices')\n",
    "\n",
    "# PI imports\n",
    "from PrincetonInstruments.LightField.Automation import *\n",
    "from PrincetonInstruments.LightField.AddIns import *\n"
   ]
  },
  {
   "cell_type": "code",
   "execution_count": 15,
   "metadata": {},
   "outputs": [],
   "source": [
    "# Create the LightField Application (true for visible)\n",
    "# The 2nd parameter forces LF to load with no experiment \n",
    "auto = Automation(True, List[String]())\n"
   ]
  },
  {
   "cell_type": "code",
   "execution_count": 16,
   "metadata": {},
   "outputs": [],
   "source": [
    "experiment = auto.LightFieldApplication.Experiment"
   ]
  },
  {
   "cell_type": "code",
   "execution_count": 17,
   "metadata": {},
   "outputs": [
    {
     "data": {
      "text/plain": [
       "True"
      ]
     },
     "execution_count": 17,
     "metadata": {},
     "output_type": "execute_result"
    }
   ],
   "source": [
    "experiment.Load('Pixis')"
   ]
  },
  {
   "cell_type": "code",
   "execution_count": 14,
   "metadata": {},
   "outputs": [],
   "source": [
    "experiment.Se"
   ]
  },
  {
   "cell_type": "code",
   "execution_count": 18,
   "metadata": {},
   "outputs": [],
   "source": [
    "def set_value(setting, value):    \n",
    "    # Check for existence before setting\n",
    "    # gain, adc rate, or adc quality\n",
    "    if experiment.Exists(setting):\n",
    "        experiment.SetValue(setting, value)\n",
    "\n",
    "def device_found():\n",
    "    # Find connected device\n",
    "    for device in experiment.ExperimentDevices:\n",
    "        if (device.Type == DeviceType.Camera):\n",
    "            return True\n",
    "     \n",
    "    # If connected device is not a camera inform the user\n",
    "    print(\"Camera not found. Please add a camera and try again.\")\n",
    "    return False  "
   ]
  },
  {
   "cell_type": "code",
   "execution_count": 19,
   "metadata": {},
   "outputs": [
    {
     "data": {
      "text/plain": [
       "True"
      ]
     },
     "execution_count": 19,
     "metadata": {},
     "output_type": "execute_result"
    }
   ],
   "source": [
    "device_found()"
   ]
  },
  {
   "cell_type": "code",
   "execution_count": 20,
   "metadata": {},
   "outputs": [
    {
     "name": "stdout",
     "output_type": "stream",
     "text": [
      "PrincetonInstruments.LightField.AddIns.HostSideAdapters.IDeviceContractToViewHostAdapter\n",
      "1\n"
     ]
    }
   ],
   "source": [
    "for device in experiment.ExperimentDevices:\n",
    "    print(device)\n",
    "    print(device.Type)"
   ]
  },
  {
   "cell_type": "code",
   "execution_count": 21,
   "metadata": {},
   "outputs": [],
   "source": [
    "set_value(CameraSettings.ShutterTimingExposureTime, 500.0)\n"
   ]
  },
  {
   "cell_type": "code",
   "execution_count": 22,
   "metadata": {},
   "outputs": [],
   "source": [
    "def convert_buffer(net_array, image_format):\n",
    "    src_hndl = GCHandle.Alloc(net_array, GCHandleType.Pinned)\n",
    "    try:\n",
    "        src_ptr = src_hndl.AddrOfPinnedObject().ToInt64()\n",
    "\n",
    "        # Possible data types returned from acquisition\n",
    "        if (image_format==ImageDataFormat.MonochromeUnsigned16):\n",
    "            buf_type = ctypes.c_ushort*len(net_array)\n",
    "        elif (image_format==ImageDataFormat.MonochromeUnsigned32):\n",
    "            buf_type = ctypes.c_uint*len(net_array)\n",
    "        elif (image_format==ImageDataFormat.MonochromeFloating32):\n",
    "            buf_type = ctypes.c_float*len(net_array)\n",
    "                    \n",
    "        cbuf = buf_type.from_address(src_ptr)\n",
    "        resultArray = np.frombuffer(cbuf, dtype=cbuf._type_)\n",
    "\n",
    "    # Free the handle \n",
    "    finally:        \n",
    "        if src_hndl.IsAllocated: src_hndl.Free()\n",
    "        \n",
    "    # Make a copy of the buffer\n",
    "    return np.copy(resultArray)\n"
   ]
  },
  {
   "cell_type": "code",
   "execution_count": 45,
   "metadata": {},
   "outputs": [],
   "source": [
    "gogogo = convert_buffer(data, frame.Format)"
   ]
  },
  {
   "cell_type": "code",
   "execution_count": 46,
   "metadata": {},
   "outputs": [
    {
     "data": {
      "text/plain": [
       "[<matplotlib.lines.Line2D at 0x22ff8278788>]"
      ]
     },
     "execution_count": 46,
     "metadata": {},
     "output_type": "execute_result"
    },
    {
     "data": {
      "image/png": "[encoded data removed]",
      "text/plain": [
       "<Figure size 432x288 with 1 Axes>"
      ]
     },
     "metadata": {
      "needs_background": "light"
     },
     "output_type": "display_data"
    }
   ],
   "source": [
    "plt.plot(gogogo)"
   ]
  },
  {
   "cell_type": "code",
   "execution_count": 38,
   "metadata": {},
   "outputs": [
    {
     "data": {
      "text/plain": [
       "[<matplotlib.lines.Line2D at 0x22ff6626948>]"
      ]
     },
     "execution_count": 38,
     "metadata": {},
     "output_type": "execute_result"
    },
    {
     "data": {
      "image/png": "[encoded data removed]",
      "text/plain": [
       "<Figure size 432x288 with 1 Axes>"
      ]
     },
     "metadata": {
      "needs_background": "light"
     },
     "output_type": "display_data"
    }
   ],
   "source": [
    "plt.plot(gogogo)"
   ]
  },
  {
   "cell_type": "code",
   "execution_count": 24,
   "metadata": {},
   "outputs": [],
   "source": [
    "shutter_task.start()\n",
    "dataset = experiment.Capture(10)\n",
    "shutter_task.stop()"
   ]
  },
  {
   "cell_type": "code",
   "execution_count": 25,
   "metadata": {},
   "outputs": [
    {
     "data": {
      "text/plain": [
       "10"
      ]
     },
     "execution_count": 25,
     "metadata": {},
     "output_type": "execute_result"
    }
   ],
   "source": [
    "dataset.Frames"
   ]
  },
  {
   "cell_type": "code",
   "execution_count": 34,
   "metadata": {},
   "outputs": [],
   "source": [
    "experiment.Preview()"
   ]
  },
  {
   "cell_type": "code",
   "execution_count": 35,
   "metadata": {},
   "outputs": [],
   "source": [
    "experiment.Stop()"
   ]
  },
  {
   "cell_type": "code",
   "execution_count": 26,
   "metadata": {},
   "outputs": [
    {
     "data": {
      "text/plain": [
       "[<matplotlib.lines.Line2D at 0x22119685d88>]"
      ]
     },
     "execution_count": 26,
     "metadata": {},
     "output_type": "execute_result"
    },
    {
     "name": "stderr",
     "output_type": "stream",
     "text": [
      "c:\\users\\raman\\miniconda3\\envs\\control\\lib\\site-packages\\nidaqmx\\task.py:105: ResourceWarning: Task of name \"_unnamedTask<1>\" was not explicitly closed before it was destructed. Resources on the task device may still be reserved.\n",
      "  'reserved.'.format(self.name), DaqResourceWarning)\n"
     ]
    },
    {
     "data": {
      "image/png": "[encoded data removed]",
      "text/plain": [
       "<Figure size 432x288 with 1 Axes>"
      ]
     },
     "metadata": {
      "needs_background": "light"
     },
     "output_type": "display_data"
    }
   ],
   "source": [
    "frame0 = dataset.GetFrame(0,0)\n",
    "frame1 = dataset.GetFrame(0,1)\n",
    "data0 = convert_buffer(frame0.GetData(), frame0.Format)\n",
    "data1 = convert_buffer(frame1.GetData(), frame1.Format)\n",
    "plt.plot(data0)\n",
    "plt.plot(data1)"
   ]
  },
  {
   "cell_type": "code",
   "execution_count": 29,
   "metadata": {},
   "outputs": [
    {
     "data": {
      "image/png": "[encoded data removed]",
      "text/plain": [
       "<Figure size 432x288 with 1 Axes>"
      ]
     },
     "metadata": {
      "needs_background": "light"
     },
     "output_type": "display_data"
    }
   ],
   "source": [
    "beepboop = []\n",
    "for i in range(10):\n",
    "    frame = dataset.GetFrame(0,i)\n",
    "    data = convert_buffer(frame.GetData(), frame.Format)\n",
    "    beepboop.append(data[664])\n",
    "    plt.plot(data)\n",
    "\n",
    "    "
   ]
  },
  {
   "cell_type": "code",
   "execution_count": 30,
   "metadata": {},
   "outputs": [
    {
     "data": {
      "text/plain": [
       "[<matplotlib.lines.Line2D at 0x2211889c348>]"
      ]
     },
     "execution_count": 30,
     "metadata": {},
     "output_type": "execute_result"
    },
    {
     "data": {
      "image/png": "[encoded data removed]",
      "text/plain": [
       "<Figure size 432x288 with 1 Axes>"
      ]
     },
     "metadata": {
      "needs_background": "light"
     },
     "output_type": "display_data"
    }
   ],
   "source": [
    "plt.plot(beepboop)"
   ]
  },
  {
   "cell_type": "code",
   "execution_count": 34,
   "metadata": {},
   "outputs": [
    {
     "ename": "DaqError",
     "evalue": "Attempted to write to an invalid combination of position and offset. The position and offset specified a sample prior to the first sample generated (sample 0).\n\nMake sure any negative write offset specified will select a valid sample when combined with the write position.\nProperty: DAQmx_Write_RelativeTo\nRequested Value: DAQmx_Val_CurrWritePos\n\nProperty: DAQmx_Write_Offset\nRequested Value: 0\n\nTask Name: _unnamedTask<2>\n\nStatus Code: -200287",
     "output_type": "error",
     "traceback": [
      "\u001b[1;31m---------------------------------------------------------------------------\u001b[0m",
      "\u001b[1;31mDaqError\u001b[0m                                  Traceback (most recent call last)",
      "\u001b[1;32m<ipython-input-34-4b7264f2fa85>\u001b[0m in \u001b[0;36m<module>\u001b[1;34m\u001b[0m\n\u001b[1;32m----> 1\u001b[1;33m \u001b[0mshutter_task\u001b[0m\u001b[1;33m.\u001b[0m\u001b[0mwrite\u001b[0m\u001b[1;33m(\u001b[0m\u001b[1;32mTrue\u001b[0m\u001b[1;33m)\u001b[0m\u001b[1;33m\u001b[0m\u001b[1;33m\u001b[0m\u001b[0m\n\u001b[0m",
      "\u001b[1;32mc:\\users\\raman\\miniconda3\\envs\\control\\lib\\site-packages\\nidaqmx\\task.py\u001b[0m in \u001b[0;36mwrite\u001b[1;34m(self, data, auto_start, timeout)\u001b[0m\n\u001b[0;32m   1250\u001b[0m                 return _write_digital_lines(\n\u001b[0;32m   1251\u001b[0m                     \u001b[0mself\u001b[0m\u001b[1;33m.\u001b[0m\u001b[0m_handle\u001b[0m\u001b[1;33m,\u001b[0m \u001b[0mdata\u001b[0m\u001b[1;33m,\u001b[0m \u001b[0mnumber_of_samples_per_channel\u001b[0m\u001b[1;33m,\u001b[0m\u001b[1;33m\u001b[0m\u001b[1;33m\u001b[0m\u001b[0m\n\u001b[1;32m-> 1252\u001b[1;33m                     auto_start, timeout)\n\u001b[0m\u001b[0;32m   1253\u001b[0m             \u001b[1;32melse\u001b[0m\u001b[1;33m:\u001b[0m\u001b[1;33m\u001b[0m\u001b[1;33m\u001b[0m\u001b[0m\n\u001b[0;32m   1254\u001b[0m                 if (not isinstance(element, six.integer_types) and\n",
      "\u001b[1;32mc:\\users\\raman\\miniconda3\\envs\\control\\lib\\site-packages\\nidaqmx\\_task_modules\\write_functions.py\u001b[0m in \u001b[0;36m_write_digital_lines\u001b[1;34m(task_handle, write_array, num_samps_per_chan, auto_start, timeout, data_layout)\u001b[0m\n\u001b[0;32m    250\u001b[0m         \u001b[0mdata_layout\u001b[0m\u001b[1;33m.\u001b[0m\u001b[0mvalue\u001b[0m\u001b[1;33m,\u001b[0m \u001b[0mwrite_array\u001b[0m\u001b[1;33m,\u001b[0m\u001b[1;33m\u001b[0m\u001b[1;33m\u001b[0m\u001b[0m\n\u001b[0;32m    251\u001b[0m         ctypes.byref(samps_per_chan_written), None)\n\u001b[1;32m--> 252\u001b[1;33m     \u001b[0mcheck_for_error\u001b[0m\u001b[1;33m(\u001b[0m\u001b[0merror_code\u001b[0m\u001b[1;33m)\u001b[0m\u001b[1;33m\u001b[0m\u001b[1;33m\u001b[0m\u001b[0m\n\u001b[0m\u001b[0;32m    253\u001b[0m \u001b[1;33m\u001b[0m\u001b[0m\n\u001b[0;32m    254\u001b[0m     \u001b[1;32mreturn\u001b[0m \u001b[0msamps_per_chan_written\u001b[0m\u001b[1;33m.\u001b[0m\u001b[0mvalue\u001b[0m\u001b[1;33m\u001b[0m\u001b[1;33m\u001b[0m\u001b[0m\n",
      "\u001b[1;32mc:\\users\\raman\\miniconda3\\envs\\control\\lib\\site-packages\\nidaqmx\\errors.py\u001b[0m in \u001b[0;36mcheck_for_error\u001b[1;34m(error_code)\u001b[0m\n\u001b[0;32m    125\u001b[0m         \u001b[0mcfunc\u001b[0m\u001b[1;33m(\u001b[0m\u001b[0merror_buffer\u001b[0m\u001b[1;33m,\u001b[0m \u001b[1;36m2048\u001b[0m\u001b[1;33m)\u001b[0m\u001b[1;33m\u001b[0m\u001b[1;33m\u001b[0m\u001b[0m\n\u001b[0;32m    126\u001b[0m \u001b[1;33m\u001b[0m\u001b[0m\n\u001b[1;32m--> 127\u001b[1;33m         \u001b[1;32mraise\u001b[0m \u001b[0mDaqError\u001b[0m\u001b[1;33m(\u001b[0m\u001b[0merror_buffer\u001b[0m\u001b[1;33m.\u001b[0m\u001b[0mvalue\u001b[0m\u001b[1;33m.\u001b[0m\u001b[0mdecode\u001b[0m\u001b[1;33m(\u001b[0m\u001b[1;34m\"utf-8\"\u001b[0m\u001b[1;33m)\u001b[0m\u001b[1;33m,\u001b[0m \u001b[0merror_code\u001b[0m\u001b[1;33m)\u001b[0m\u001b[1;33m\u001b[0m\u001b[1;33m\u001b[0m\u001b[0m\n\u001b[0m\u001b[0;32m    128\u001b[0m \u001b[1;33m\u001b[0m\u001b[0m\n\u001b[0;32m    129\u001b[0m     \u001b[1;32melif\u001b[0m \u001b[0merror_code\u001b[0m \u001b[1;33m>\u001b[0m \u001b[1;36m0\u001b[0m\u001b[1;33m:\u001b[0m\u001b[1;33m\u001b[0m\u001b[1;33m\u001b[0m\u001b[0m\n",
      "\u001b[1;31mDaqError\u001b[0m: Attempted to write to an invalid combination of position and offset. The position and offset specified a sample prior to the first sample generated (sample 0).\n\nMake sure any negative write offset specified will select a valid sample when combined with the write position.\nProperty: DAQmx_Write_RelativeTo\nRequested Value: DAQmx_Val_CurrWritePos\n\nProperty: DAQmx_Write_Offset\nRequested Value: 0\n\nTask Name: _unnamedTask<2>\n\nStatus Code: -200287"
     ]
    }
   ],
   "source": [
    "shutter_task.write(True)"
   ]
  },
  {
   "cell_type": "code",
   "execution_count": 38,
   "metadata": {},
   "outputs": [],
   "source": [
    "shutter_task.close()"
   ]
  },
  {
   "cell_type": "code",
   "execution_count": 35,
   "metadata": {},
   "outputs": [],
   "source": [
    "shutter_task.stop()"
   ]
  },
  {
   "cell_type": "code",
   "execution_count": 40,
   "metadata": {},
   "outputs": [],
   "source": [
    "experiment.Preview()"
   ]
  },
  {
   "cell_type": "code",
   "execution_count": 41,
   "metadata": {},
   "outputs": [],
   "source": [
    "experiment.Stop()"
   ]
  },
  {
   "cell_type": "code",
   "execution_count": 109,
   "metadata": {},
   "outputs": [
    {
     "ename": "RemotingException",
     "evalue": "Failed to read from an IPC Port: The pipe has been ended.\r\n\n\r\nServer stack trace: \r\n   at System.Runtime.Remoting.Channels.Ipc.IpcPort.Read(Byte[] data, Int32 offset, Int32 length)\r\n   at System.Runtime.Remoting.Channels.SocketHandler.ReadFromSocket(Byte[] buffer, Int32 offset, Int32 count)\r\n   at System.Runtime.Remoting.Channels.SocketHandler.Read(Byte[] buffer, Int32 offset, Int32 count)\r\n   at System.Runtime.Remoting.Channels.SocketHandler.ReadAndMatchFourBytes(Byte[] buffer)\r\n   at System.Runtime.Remoting.Channels.Tcp.TcpSocketHandler.ReadAndMatchPreamble()\r\n   at System.Runtime.Remoting.Channels.Tcp.TcpSocketHandler.ReadVersionAndOperation(UInt16& operation)\r\n   at System.Runtime.Remoting.Channels.Ipc.IpcClientHandler.ReadHeaders()\r\n   at System.Runtime.Remoting.Channels.Ipc.IpcClientTransportSink.ProcessMessage(IMessage msg, ITransportHeaders requestHeaders, Stream requestStream, ITransportHeaders& responseHeaders, Stream& responseStream)\r\n   at System.Runtime.Remoting.Channels.BinaryClientFormatterSink.SyncProcessMessage(IMessage msg)\r\n\r\nException rethrown at [0]: \r\n   at System.Runtime.Remoting.Proxies.RealProxy.HandleReturnMessage(IMessage reqMsg, IMessage retMsg)\r\n   at System.Runtime.Remoting.Proxies.RealProxy.PrivateInvoke(MessageData& msgData, Int32 type)\r\n   at PrincetonInstruments.LightField.AddIns.Contracts.IImageDataSet.GetFrame(Int32 regionIndex, Int64 frameIndex)\r\n   at PrincetonInstruments.LightField.AddIns.HostSideAdapters.IImageDataSetContractToViewHostAdapter.GetFrame(Int32 regionIndex, Int64 frameIndex)",
     "output_type": "error",
     "traceback": [
      "\u001b[1;31m---------------------------------------------------------------------------\u001b[0m",
      "\u001b[1;31mRemotingException\u001b[0m                         Traceback (most recent call last)",
      "\u001b[1;32m<ipython-input-109-3dde9cf29594>\u001b[0m in \u001b[0;36m<module>\u001b[1;34m\u001b[0m\n\u001b[1;32m----> 1\u001b[1;33m \u001b[0mframe1\u001b[0m \u001b[1;33m=\u001b[0m \u001b[0mdataset\u001b[0m\u001b[1;33m.\u001b[0m\u001b[0mGetFrame\u001b[0m\u001b[1;33m(\u001b[0m\u001b[1;36m1\u001b[0m\u001b[1;33m,\u001b[0m\u001b[1;36m0\u001b[0m\u001b[1;33m)\u001b[0m\u001b[1;33m\u001b[0m\u001b[1;33m\u001b[0m\u001b[0m\n\u001b[0m\u001b[0;32m      2\u001b[0m \u001b[0mdata1\u001b[0m \u001b[1;33m=\u001b[0m \u001b[0mconvert_buffer\u001b[0m\u001b[1;33m(\u001b[0m\u001b[0mframe1\u001b[0m\u001b[1;33m.\u001b[0m\u001b[0mGetData\u001b[0m\u001b[1;33m(\u001b[0m\u001b[1;33m)\u001b[0m\u001b[1;33m,\u001b[0m \u001b[0mframe1\u001b[0m\u001b[1;33m.\u001b[0m\u001b[0mFormat\u001b[0m\u001b[1;33m)\u001b[0m\u001b[1;33m\u001b[0m\u001b[1;33m\u001b[0m\u001b[0m\n\u001b[0;32m      3\u001b[0m \u001b[0mplt\u001b[0m\u001b[1;33m.\u001b[0m\u001b[0mplot\u001b[0m\u001b[1;33m(\u001b[0m\u001b[0mdata1\u001b[0m\u001b[1;33m)\u001b[0m\u001b[1;33m\u001b[0m\u001b[1;33m\u001b[0m\u001b[0m\n",
      "\u001b[1;31mRemotingException\u001b[0m: Failed to read from an IPC Port: The pipe has been ended.\r\n\n\r\nServer stack trace: \r\n   at System.Runtime.Remoting.Channels.Ipc.IpcPort.Read(Byte[] data, Int32 offset, Int32 length)\r\n   at System.Runtime.Remoting.Channels.SocketHandler.ReadFromSocket(Byte[] buffer, Int32 offset, Int32 count)\r\n   at System.Runtime.Remoting.Channels.SocketHandler.Read(Byte[] buffer, Int32 offset, Int32 count)\r\n   at System.Runtime.Remoting.Channels.SocketHandler.ReadAndMatchFourBytes(Byte[] buffer)\r\n   at System.Runtime.Remoting.Channels.Tcp.TcpSocketHandler.ReadAndMatchPreamble()\r\n   at System.Runtime.Remoting.Channels.Tcp.TcpSocketHandler.ReadVersionAndOperation(UInt16& operation)\r\n   at System.Runtime.Remoting.Channels.Ipc.IpcClientHandler.ReadHeaders()\r\n   at System.Runtime.Remoting.Channels.Ipc.IpcClientTransportSink.ProcessMessage(IMessage msg, ITransportHeaders requestHeaders, Stream requestStream, ITransportHeaders& responseHeaders, Stream& responseStream)\r\n   at System.Runtime.Remoting.Channels.BinaryClientFormatterSink.SyncProcessMessage(IMessage msg)\r\n\r\nException rethrown at [0]: \r\n   at System.Runtime.Remoting.Proxies.RealProxy.HandleReturnMessage(IMessage reqMsg, IMessage retMsg)\r\n   at System.Runtime.Remoting.Proxies.RealProxy.PrivateInvoke(MessageData& msgData, Int32 type)\r\n   at PrincetonInstruments.LightField.AddIns.Contracts.IImageDataSet.GetFrame(Int32 regionIndex, Int64 frameIndex)\r\n   at PrincetonInstruments.LightField.AddIns.HostSideAdapters.IImageDataSetContractToViewHostAdapter.GetFrame(Int32 regionIndex, Int64 frameIndex)"
     ]
    }
   ],
   "source": [
    "frame1 = dataset.GetFrame(1,0)\n",
    "data1 = convert_buffer(frame1.GetData(), frame1.Format)\n",
    "plt.plot(data1)"
   ]
  },
  {
   "cell_type": "code",
   "execution_count": 110,
   "metadata": {},
   "outputs": [
    {
     "ename": "RemotingException",
     "evalue": "Failed to connect to an IPC Port: The system cannot find the file specified.\r\n \n\r\nServer stack trace: \r\n   at System.Runtime.Remoting.Channels.Ipc.IpcPort.Connect(String portName, Boolean secure, TokenImpersonationLevel impersonationLevel, Int32 timeout)\r\n   at System.Runtime.Remoting.Channels.Ipc.ConnectionCache.GetConnection(String portName, Boolean secure, TokenImpersonationLevel level, Int32 timeout)\r\n   at System.Runtime.Remoting.Channels.Ipc.IpcClientTransportSink.ProcessMessage(IMessage msg, ITransportHeaders requestHeaders, Stream requestStream, ITransportHeaders& responseHeaders, Stream& responseStream)\r\n   at System.Runtime.Remoting.Channels.BinaryClientFormatterSink.SyncProcessMessage(IMessage msg)\r\n\r\nException rethrown at [0]: \r\n   at System.Runtime.Remoting.Proxies.RealProxy.HandleReturnMessage(IMessage reqMsg, IMessage retMsg)\r\n   at System.Runtime.Remoting.Proxies.RealProxy.PrivateInvoke(MessageData& msgData, Int32 type)\r\n   at PrincetonInstruments.LightField.AddIns.Contracts.ILightFieldAutomationContract.RemoveLightFieldClosedHandler(ILightFieldClosedEventArgsHandler handler)\r\n   at PrincetonInstruments.LightField.AddIns.HostSideAdapters.ILightFieldAutomationContractToViewHostAdapter.remove_LightFieldClosed(EventHandler`1 value)\r\n   at PrincetonInstruments.LightField.Automation.Automation.DisposeImpl(Boolean fromClosed)",
     "output_type": "error",
     "traceback": [
      "\u001b[1;31m---------------------------------------------------------------------------\u001b[0m",
      "\u001b[1;31mRemotingException\u001b[0m                         Traceback (most recent call last)",
      "\u001b[1;32m<ipython-input-110-66e2fe794683>\u001b[0m in \u001b[0;36m<module>\u001b[1;34m\u001b[0m\n\u001b[1;32m----> 1\u001b[1;33m \u001b[0mauto\u001b[0m\u001b[1;33m.\u001b[0m\u001b[0mDispose\u001b[0m\u001b[1;33m(\u001b[0m\u001b[1;33m)\u001b[0m\u001b[1;33m\u001b[0m\u001b[1;33m\u001b[0m\u001b[0m\n\u001b[0m",
      "\u001b[1;31mRemotingException\u001b[0m: Failed to connect to an IPC Port: The system cannot find the file specified.\r\n \n\r\nServer stack trace: \r\n   at System.Runtime.Remoting.Channels.Ipc.IpcPort.Connect(String portName, Boolean secure, TokenImpersonationLevel impersonationLevel, Int32 timeout)\r\n   at System.Runtime.Remoting.Channels.Ipc.ConnectionCache.GetConnection(String portName, Boolean secure, TokenImpersonationLevel level, Int32 timeout)\r\n   at System.Runtime.Remoting.Channels.Ipc.IpcClientTransportSink.ProcessMessage(IMessage msg, ITransportHeaders requestHeaders, Stream requestStream, ITransportHeaders& responseHeaders, Stream& responseStream)\r\n   at System.Runtime.Remoting.Channels.BinaryClientFormatterSink.SyncProcessMessage(IMessage msg)\r\n\r\nException rethrown at [0]: \r\n   at System.Runtime.Remoting.Proxies.RealProxy.HandleReturnMessage(IMessage reqMsg, IMessage retMsg)\r\n   at System.Runtime.Remoting.Proxies.RealProxy.PrivateInvoke(MessageData& msgData, Int32 type)\r\n   at PrincetonInstruments.LightField.AddIns.Contracts.ILightFieldAutomationContract.RemoveLightFieldClosedHandler(ILightFieldClosedEventArgsHandler handler)\r\n   at PrincetonInstruments.LightField.AddIns.HostSideAdapters.ILightFieldAutomationContractToViewHostAdapter.remove_LightFieldClosed(EventHandler`1 value)\r\n   at PrincetonInstruments.LightField.Automation.Automation.DisposeImpl(Boolean fromClosed)"
     ]
    }
   ],
   "source": [
    "auto.Dispose()"
   ]
  },
  {
   "cell_type": "code",
   "execution_count": 42,
   "metadata": {},
   "outputs": [],
   "source": [
    "auto.Dispose()"
   ]
  },
  {
   "cell_type": "code",
   "execution_count": null,
   "metadata": {},
   "outputs": [],
   "source": []
  }
 ],
 "metadata": {
  "kernelspec": {
   "display_name": "Python 3",
   "language": "python",
   "name": "python3"
  },
  "language_info": {
   "codemirror_mode": {
    "name": "ipython",
    "version": 3
   },
   "file_extension": ".py",
   "mimetype": "text/x-python",
   "name": "python",
   "nbconvert_exporter": "python",
   "pygments_lexer": "ipython3",
   "version": "3.7.9"
  }
 },
 "nbformat": 4,
 "nbformat_minor": 4
}
