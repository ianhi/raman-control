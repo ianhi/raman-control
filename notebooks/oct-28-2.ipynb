{
 "cells": [
  {
   "cell_type": "code",
   "execution_count": 1,
   "metadata": {},
   "outputs": [],
   "source": [
    "%load_ext autoreload\n",
    "%autoreload 2\n",
    "%matplotlib ipympl\n",
    "import json\n",
    "import time\n",
    "from collections import defaultdict\n",
    "\n",
    "import ipywidgets as widgets\n",
    "import laser_pointer as lp\n",
    "import matplotlib.pyplot as plt\n",
    "import mpl_interactions.ipyplot as iplt\n",
    "import numpy as np\n",
    "import sidecar\n",
    "from mpl_interactions import hyperslicer\n",
    "from pycromanager import Acquisition, multi_d_acquisition_events\n",
    "from raman_control import *\n",
    "from tqdm.auto import tqdm"
   ]
  },
  {
   "cell_type": "code",
   "execution_count": 2,
   "metadata": {},
   "outputs": [],
   "source": [
    "galvo, shutter, open_shutter, close_shutter, close_daq = setup_laser_control()\n",
    "auto, experiment, set_value, set_rm_exposure = setup_lightfield()\n",
    "bridge, core, snap_image, collect_bf_images = setup_scope()\n",
    "\n",
    "\n",
    "def shutdown():\n",
    "    close_daq()\n",
    "    auto.Dispose()"
   ]
  },
  {
   "cell_type": "code",
   "execution_count": 3,
   "metadata": {},
   "outputs": [],
   "source": [
    "capture_rm_grid, collect_spectra = create_collection_functions(\n",
    "    galvo, shutter, experiment, set_rm_exposure, open_shutter, nidaqmx\n",
    ")"
   ]
  },
  {
   "cell_type": "code",
   "execution_count": 4,
   "metadata": {},
   "outputs": [],
   "source": [
    "calibrate = create_calibrate(capture_rm_grid, snap_image, lp)"
   ]
  },
  {
   "cell_type": "code",
   "execution_count": 7,
   "metadata": {},
   "outputs": [
    {
     "data": {
      "application/vnd.jupyter.widget-view+json": {
       "model_id": "1c481328f900499da9d5e127b0aaaa96",
       "version_major": 2,
       "version_minor": 0
      },
      "text/plain": [
       "Canvas(toolbar=Toolbar(toolitems=[('Home', 'Reset original view', 'home', 'home'), ('Back', 'Back to previous …"
      ]
     },
     "metadata": {},
     "output_type": "display_data"
    }
   ],
   "source": [
    "fit_calibration, lp_bf, lp_rm = calibrate(75)"
   ]
  },
  {
   "cell_type": "code",
   "execution_count": 8,
   "metadata": {},
   "outputs": [
    {
     "data": {
      "application/vnd.jupyter.widget-view+json": {
       "model_id": "ddcb3828af9b4996a32485e51e7a328b",
       "version_major": 2,
       "version_minor": 0
      },
      "text/plain": [
       "Canvas(toolbar=Toolbar(toolitems=[('Home', 'Reset original view', 'home', 'home'), ('Back', 'Back to previous …"
      ]
     },
     "metadata": {},
     "output_type": "display_data"
    }
   ],
   "source": [
    "transform_pointer, bfx_to_rmx, bfy_to_rmy, inverse_x, inverse_y = fit_calibration()"
   ]
  },
  {
   "cell_type": "code",
   "execution_count": 10,
   "metadata": {},
   "outputs": [],
   "source": [
    "xy, z = position_file_to_coords(\"pos-oct28-2.pos\")"
   ]
  },
  {
   "cell_type": "code",
   "execution_count": 14,
   "metadata": {},
   "outputs": [],
   "source": [
    "xyz = np.hstack([xy, z[:, None]])"
   ]
  },
  {
   "cell_type": "code",
   "execution_count": 24,
   "metadata": {},
   "outputs": [],
   "source": [
    "images = collect_bf_images(xy, list(z))"
   ]
  },
  {
   "cell_type": "code",
   "execution_count": 27,
   "metadata": {},
   "outputs": [
    {
     "data": {
      "application/vnd.jupyter.widget-view+json": {
       "model_id": "2bc254f95b644a738580ab3b7ea72892",
       "version_major": 2,
       "version_minor": 0
      },
      "text/plain": [
       "Canvas(toolbar=Toolbar(toolitems=[('Home', 'Reset original view', 'home', 'home'), ('Back', 'Back to previous …"
      ]
     },
     "metadata": {},
     "output_type": "display_data"
    },
    {
     "data": {
      "application/vnd.jupyter.widget-view+json": {
       "model_id": "178f285544cd4646a5980ad7af5f9a3e",
       "version_major": 2,
       "version_minor": 0
      },
      "text/plain": [
       "VBox(children=(HBox(children=(IntSlider(value=0, description='axis0', max=1, readout=False), Label(value='0'))…"
      ]
     },
     "metadata": {},
     "output_type": "display_data"
    },
    {
     "data": {
      "application/vnd.jupyter.widget-view+json": {
       "model_id": "178f285544cd4646a5980ad7af5f9a3e",
       "version_major": 2,
       "version_minor": 0
      },
      "text/plain": [
       "VBox(children=(HBox(children=(IntSlider(value=0, description='axis0', max=1, readout=False), Label(value='0'))…"
      ]
     },
     "metadata": {},
     "output_type": "display_data"
    }
   ],
   "source": [
    "plt.figure()\n",
    "hyperslicer(images)"
   ]
  },
  {
   "cell_type": "code",
   "execution_count": 28,
   "metadata": {},
   "outputs": [],
   "source": [
    "overlay = lp.make_overlay(images.shape[1:], inverse_x, inverse_y)"
   ]
  },
  {
   "cell_type": "code",
   "execution_count": 29,
   "metadata": {},
   "outputs": [
    {
     "data": {
      "application/vnd.jupyter.widget-view+json": {
       "model_id": "07d1652badc34cd09b6fbd43677ebdc1",
       "version_major": 2,
       "version_minor": 0
      },
      "text/plain": [
       "Canvas(toolbar=Toolbar(toolitems=[('Home', 'Reset original view', 'home', 'home'), ('Back', 'Back to previous …"
      ]
     },
     "metadata": {},
     "output_type": "display_data"
    },
    {
     "data": {
      "text/plain": [
       "<matplotlib.image.AxesImage at 0x23fc98c8d48>"
      ]
     },
     "execution_count": 29,
     "metadata": {},
     "output_type": "execute_result"
    }
   ],
   "source": [
    "pointers = {}\n",
    "pointers[0] = lp.pointer(images[0])\n",
    "pointers[0].ax.imshow(overlay)"
   ]
  },
  {
   "cell_type": "code",
   "execution_count": 30,
   "metadata": {},
   "outputs": [
    {
     "data": {
      "application/vnd.jupyter.widget-view+json": {
       "model_id": "2f7695cc5d334ef0aa2615985c8cfc0f",
       "version_major": 2,
       "version_minor": 0
      },
      "text/plain": [
       "Canvas(toolbar=Toolbar(toolitems=[('Home', 'Reset original view', 'home', 'home'), ('Back', 'Back to previous …"
      ]
     },
     "metadata": {},
     "output_type": "display_data"
    },
    {
     "data": {
      "text/plain": [
       "<matplotlib.image.AxesImage at 0x23fc9f293c8>"
      ]
     },
     "execution_count": 30,
     "metadata": {},
     "output_type": "execute_result"
    }
   ],
   "source": [
    "pointers[1] = lp.pointer(images[1])\n",
    "pointers[1].ax.imshow(overlay)"
   ]
  },
  {
   "cell_type": "code",
   "execution_count": 34,
   "metadata": {},
   "outputs": [],
   "source": [
    "bead_positions = {}\n",
    "for i in range(2):\n",
    "    bead_positions[i] = transform_pointer(pointers[i])"
   ]
  },
  {
   "cell_type": "code",
   "execution_count": 37,
   "metadata": {},
   "outputs": [],
   "source": [
    "spectra = collect_spectra(bead_positions[1])"
   ]
  },
  {
   "cell_type": "code",
   "execution_count": 40,
   "metadata": {},
   "outputs": [
    {
     "data": {
      "application/vnd.jupyter.widget-view+json": {
       "model_id": "81db3fed8dae46d2a4a2bada3992c3cd",
       "version_major": 2,
       "version_minor": 0
      },
      "text/plain": [
       "Canvas(toolbar=Toolbar(toolitems=[('Home', 'Reset original view', 'home', 'home'), ('Back', 'Back to previous …"
      ]
     },
     "metadata": {},
     "output_type": "display_data"
    },
    {
     "data": {
      "text/plain": [
       "[<matplotlib.lines.Line2D at 0x23fca0acd08>,\n",
       " <matplotlib.lines.Line2D at 0x23fcff77548>,\n",
       " <matplotlib.lines.Line2D at 0x23fcff8b308>,\n",
       " <matplotlib.lines.Line2D at 0x23fcff8b608>,\n",
       " <matplotlib.lines.Line2D at 0x23fcff8b948>,\n",
       " <matplotlib.lines.Line2D at 0x23fcff8bf08>,\n",
       " <matplotlib.lines.Line2D at 0x23fcff921c8>,\n",
       " <matplotlib.lines.Line2D at 0x23fcff92288>,\n",
       " <matplotlib.lines.Line2D at 0x23fcff8b848>,\n",
       " <matplotlib.lines.Line2D at 0x23fcff8bb08>,\n",
       " <matplotlib.lines.Line2D at 0x23fcfc9f488>,\n",
       " <matplotlib.lines.Line2D at 0x23fcff92148>,\n",
       " <matplotlib.lines.Line2D at 0x23fcff99248>,\n",
       " <matplotlib.lines.Line2D at 0x23fcff99288>,\n",
       " <matplotlib.lines.Line2D at 0x23fcff99588>,\n",
       " <matplotlib.lines.Line2D at 0x23fcff99888>,\n",
       " <matplotlib.lines.Line2D at 0x23fcff99c88>,\n",
       " <matplotlib.lines.Line2D at 0x23fcff9e088>]"
      ]
     },
     "execution_count": 40,
     "metadata": {},
     "output_type": "execute_result"
    }
   ],
   "source": [
    "plt.figure()\n",
    "plt.plot(spectra.T)"
   ]
  },
  {
   "cell_type": "code",
   "execution_count": 43,
   "metadata": {},
   "outputs": [],
   "source": [
    "events = multi_d_acquisition_events(\n",
    "    xyz_positions=xyz,\n",
    "    z_start=-3,\n",
    "    z_end=3,\n",
    "    z_step=1,\n",
    "    channel_group=\"UPLSAPO40X\",\n",
    "    channels=[\"BF\", \"GFP\"],\n",
    ")"
   ]
  },
  {
   "cell_type": "code",
   "execution_count": 44,
   "metadata": {},
   "outputs": [],
   "source": [
    "rm_data = defaultdict(dict)\n",
    "sc.clear_output()\n",
    "\n",
    "\n",
    "def f(event):\n",
    "    if event[\"axes\"][\"z\"] == 5 and event[\"channel\"][\"config\"] == \"BF\":\n",
    "        with sc:\n",
    "            print(\"starting raman\")\n",
    "            rm_data[axes[\"position\"]][axes[\"z\"]] = capture_rm_grid(25)\n",
    "            print(\"done raman\")\n",
    "            print(event)\n",
    "    return event\n",
    "\n",
    "\n",
    "with Acquisition(directory=\"z-stack-test\", name=\"heck\", post_hardware_hook_fn=f) as acq:\n",
    "    dataset = acq.acquire(events)"
   ]
  },
  {
   "cell_type": "code",
   "execution_count": 49,
   "metadata": {},
   "outputs": [],
   "source": [
    "sc = sidecar.Sidecar(title=\"function output\")"
   ]
  },
  {
   "cell_type": "code",
   "execution_count": 53,
   "metadata": {},
   "outputs": [],
   "source": [
    "rm_data = defaultdict(dict)\n",
    "sc.clear_output()\n",
    "\n",
    "\n",
    "def f(event):\n",
    "    if event[\"axes\"][\"z\"] == 3 and event[\"channel\"][\"config\"] == \"BF\":\n",
    "        axes = event[\"axes\"]\n",
    "        with sc:\n",
    "            print(\"starting raman\")\n",
    "            print(axes[\"position\"])\n",
    "            rm_data[axes[\"position\"]][axes[\"z\"]] = collect_spectra(\n",
    "                bead_positions[axes[\"position\"]]\n",
    "            )\n",
    "            print(\"done raman\")\n",
    "            print(event)\n",
    "    return event"
   ]
  },
  {
   "cell_type": "code",
   "execution_count": 54,
   "metadata": {},
   "outputs": [],
   "source": [
    "with Acquisition(\n",
    "    directory=\"multi-pos-selected-rm\", name=\"test\", post_hardware_hook_fn=f\n",
    ") as acq:\n",
    "    dataset = acq.acquire(events)"
   ]
  },
  {
   "cell_type": "code",
   "execution_count": 52,
   "metadata": {},
   "outputs": [
    {
     "data": {
      "text/plain": [
       "{0: array([[ 0.19128391,  0.1606868 ,  0.12428678,  0.10687808,  0.0884143 ,\n",
       "          0.07417082,  0.04990414,  0.20489564,  0.22339998,  0.06611303,\n",
       "          0.07125313,  0.08256134, -0.01304446, -0.00584832, -0.03360484,\n",
       "         -0.03977296, -0.04696909, -0.11173431, -0.13743479],\n",
       "        [-0.11560434, -0.10980144, -0.09925071, -0.07762172, -0.16572031,\n",
       "         -0.13776087, -0.16466523, -0.14513435, -0.11943387,  0.0440212 ,\n",
       "          0.01318062, -0.01149184, -0.0145759 , -0.05055657, -0.07625706,\n",
       "         -0.04438846, -0.00635174,  0.07691782,  0.05532942]]),\n",
       " 1: array([[ 0.03626078,  0.06076216,  0.04346707,  0.01968631, -0.00085161,\n",
       "          0.02833386,  0.05968122,  0.07257976,  0.03349803,  0.00206273,\n",
       "          0.05133969,  0.08447419,  0.11590949,  0.12695433,  0.15329201,\n",
       "          0.14309678,  0.11590949,  0.0878726 ],\n",
       "        [ 0.10433505,  0.13316021,  0.15910285,  0.13099832,  0.06722265,\n",
       "          0.05641322,  0.06614171,  0.0359795 ,  0.02238586,  0.0359795 ,\n",
       "         -0.00395183, -0.00225262,  0.0053938 ,  0.0376787 ,  0.00964181,\n",
       "         -0.01839508, -0.04218395, -0.03453753]])}"
      ]
     },
     "execution_count": 52,
     "metadata": {},
     "output_type": "execute_result"
    }
   ],
   "source": [
    "bead_positions"
   ]
  },
  {
   "cell_type": "code",
   "execution_count": 58,
   "metadata": {},
   "outputs": [
    {
     "data": {
      "application/vnd.jupyter.widget-view+json": {
       "model_id": "1cc80e4ba42a4b51ba71e74cf485d7f0",
       "version_major": 2,
       "version_minor": 0
      },
      "text/plain": [
       "Canvas(toolbar=Toolbar(toolitems=[('Home', 'Reset original view', 'home', 'home'), ('Back', 'Back to previous …"
      ]
     },
     "metadata": {},
     "output_type": "display_data"
    },
    {
     "data": {
      "image/png": "[encoded data removed]",
      "text/plain": [
       "<Figure size 640x480 with 1 Axes>"
      ]
     },
     "metadata": {},
     "output_type": "display_data"
    },
    {
     "data": {
      "application/vnd.jupyter.widget-view+json": {
       "model_id": "4a9fae9fd2e243d8bf7b647970346d12",
       "version_major": 2,
       "version_minor": 0
      },
      "text/plain": [
       "Canvas(toolbar=Toolbar(toolitems=[('Home', 'Reset original view', 'home', 'home'), ('Back', 'Back to previous …"
      ]
     },
     "metadata": {},
     "output_type": "display_data"
    },
    {
     "data": {
      "image/png": "[encoded data removed]",
      "text/plain": [
       "<Figure size 640x480 with 1 Axes>"
      ]
     },
     "metadata": {},
     "output_type": "display_data"
    }
   ],
   "source": [
    "fig = plt.figure()\n",
    "plt.plot(rm_data[0][3].T)\n",
    "display(fig)\n",
    "plt.figure()\n",
    "plt.plot(rm_data[1][3].T)\n",
    "display(fig)"
   ]
  },
  {
   "cell_type": "code",
   "execution_count": null,
   "metadata": {},
   "outputs": [],
   "source": []
  }
 ],
 "metadata": {
  "kernelspec": {
   "display_name": "Python 3",
   "language": "python",
   "name": "python3"
  },
  "language_info": {
   "codemirror_mode": {
    "name": "ipython",
    "version": 3
   },
   "file_extension": ".py",
   "mimetype": "text/x-python",
   "name": "python",
   "nbconvert_exporter": "python",
   "pygments_lexer": "ipython3",
   "version": "3.7.9"
  }
 },
 "nbformat": 4,
 "nbformat_minor": 4
}
